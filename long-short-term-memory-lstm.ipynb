{
 "cells": [
  {
   "cell_type": "code",
   "execution_count": 1,
   "id": "90641db7",
   "metadata": {
    "_cell_guid": "b1076dfc-b9ad-4769-8c92-a6c4dae69d19",
    "_uuid": "8f2839f25d086af736a60e9eeb907d3b93b6e0e5",
    "execution": {
     "iopub.execute_input": "2024-12-16T12:38:49.456448Z",
     "iopub.status.busy": "2024-12-16T12:38:49.456085Z",
     "iopub.status.idle": "2024-12-16T12:38:50.427883Z",
     "shell.execute_reply": "2024-12-16T12:38:50.426660Z"
    },
    "papermill": {
     "duration": 0.983074,
     "end_time": "2024-12-16T12:38:50.430348",
     "exception": false,
     "start_time": "2024-12-16T12:38:49.447274",
     "status": "completed"
    },
    "tags": []
   },
   "outputs": [],
   "source": [
    "# This Python 3 environment comes with many helpful analytics libraries installed\n",
    "# It is defined by the kaggle/python Docker image: https://github.com/kaggle/docker-python\n",
    "# For example, here's several helpful packages to load\n",
    "\n",
    "import numpy as np # linear algebra\n",
    "import pandas as pd # data processing, CSV file I/O (e.g. pd.read_csv)\n",
    "\n",
    "# Input data files are available in the read-only \"../input/\" directory\n",
    "# For example, running this (by clicking run or pressing Shift+Enter) will list all files under the input directory\n",
    "\n",
    "import os\n",
    "for dirname, _, filenames in os.walk('/kaggle/input'):\n",
    "    for filename in filenames:\n",
    "        print(os.path.join(dirname, filename))\n",
    "\n",
    "# You can write up to 20GB to the current directory (/kaggle/working/) that gets preserved as output when you create a version using \"Save & Run All\" \n",
    "# You can also write temporary files to /kaggle/temp/, but they won't be saved outside of the current session"
   ]
  },
  {
   "cell_type": "code",
   "execution_count": 2,
   "id": "796c0b67",
   "metadata": {
    "execution": {
     "iopub.execute_input": "2024-12-16T12:38:50.444845Z",
     "iopub.status.busy": "2024-12-16T12:38:50.444204Z",
     "iopub.status.idle": "2024-12-16T12:38:50.452978Z",
     "shell.execute_reply": "2024-12-16T12:38:50.451962Z"
    },
    "papermill": {
     "duration": 0.018536,
     "end_time": "2024-12-16T12:38:50.455182",
     "exception": false,
     "start_time": "2024-12-16T12:38:50.436646",
     "status": "completed"
    },
    "tags": []
   },
   "outputs": [],
   "source": [
    "faqs = \"\"\"About the Program\n",
    "What is the course fee for  Data Science Mentorship Program (DSMP 2023)\n",
    "The course follows a monthly subscription model where you have to make monthly payments of Rs 799/month.\n",
    "What is the total duration of the course?\n",
    "The total duration of the course is 7 months. So the total course fee becomes 799*7 = Rs 5600(approx.)\n",
    "What is the syllabus of the mentorship program?\n",
    "We will be covering the following modules:\n",
    "Python Fundamentals\n",
    "Python libraries for Data Science\n",
    "Data Analysis\n",
    "SQL for Data Science\n",
    "Maths for Machine Learning\n",
    "ML Algorithms\n",
    "Practical ML\n",
    "MLOPs\n",
    "Case studies\n",
    "You can check the detailed syllabus here - https://learnwith.campusx.in/courses/CampusX-Data-Science-Mentorship-Program-637339afe4b0615a1bbed390\n",
    "Will Deep Learning and NLP be a part of this program?\n",
    "No, NLP and Deep Learning both are not a part of this program’s curriculum.\n",
    "What if I miss a live session? Will I get a recording of the session?\n",
    "Yes all our sessions are recorded, so even if you miss a session you can go back and watch the recording.\n",
    "Where can I find the class schedule?\n",
    "Checkout this google sheet to see month by month time table of the course - https://docs.google.com/spreadsheets/d/16OoTax_A6ORAeCg4emgexhqqPv3noQPYKU7RJ6ArOzk/edit?usp=sharing.\n",
    "What is the time duration of all the live sessions?\n",
    "Roughly, all the sessions last 2 hours.\n",
    "What is the language spoken by the instructor during the sessions?\n",
    "Hinglish\n",
    "How will I be informed about the upcoming class?\n",
    "You will get a mail from our side before every paid session once you become a paid user.\n",
    "Can I do this course if I am from a non-tech background?\n",
    "Yes, absolutely.\n",
    "I am late, can I join the program in the middle?\n",
    "Absolutely, you can join the program anytime.\n",
    "If I join/pay in the middle, will I be able to see all the past lectures?\n",
    "Yes, once you make the payment you will be able to see all the past content in your dashboard.\n",
    "Where do I have to submit the task?\n",
    "You don’t have to submit the task. We will provide you with the solutions, you have to self evaluate the task yourself.\n",
    "Will we do case studies in the program?\n",
    "Yes.\n",
    "Where can we contact you?\n",
    "You can mail us at nitish.campusx@gmail.com\n",
    "Payment/Registration related questions\n",
    "Where do we have to make our payments? Your YouTube channel or website?\n",
    "You have to make all your monthly payments on our website. Here is the link for our website - https://learnwith.campusx.in/\n",
    "Can we pay the entire amount of Rs 5600 all at once?\n",
    "Unfortunately no, the program follows a monthly subscription model.\n",
    "What is the validity of monthly subscription? Suppose if I pay on 15th Jan, then do I have to pay again on 1st Feb or 15th Feb\n",
    "15th Feb. The validity period is 30 days from the day you make the payment. So essentially you can join anytime you don’t have to wait for a month to end.\n",
    "What if I don’t like the course after making the payment. What is the refund policy?\n",
    "You get a 7 days refund period from the day you have made the payment.\n",
    "I am living outside India and I am not able to make the payment on the website, what should I do?\n",
    "You have to contact us by sending a mail at nitish.campusx@gmail.com\n",
    "Post registration queries\n",
    "Till when can I view the paid videos on the website?\n",
    "This one is tricky, so read carefully. You can watch the videos till your subscription is valid. Suppose you have purchased subscription on 21st Jan, you will be able to watch all the past paid sessions in the period of 21st Jan to 20th Feb. But after 21st Feb you will have to purchase the subscription again.\n",
    "But once the course is over and you have paid us Rs 5600(or 7 installments of Rs 799) you will be able to watch the paid sessions till Aug 2024.\n",
    "Why lifetime validity is not provided?\n",
    "Because of the low course fee.\n",
    "Where can I reach out in case of a doubt after the session?\n",
    "You will have to fill a google form provided in your dashboard and our team will contact you for a 1 on 1 doubt clearance session\n",
    "If I join the program late, can I still ask past week doubts?\n",
    "Yes, just select past week doubt in the doubt clearance google form.\n",
    "I am living outside India and I am not able to make the payment on the website, what should I do?\n",
    "You have to contact us by sending a mail at nitish.campusx@gmai.com\n",
    "Certificate and Placement Assistance related queries\n",
    "What is the criteria to get the certificate?\n",
    "There are 2 criterias:\n",
    "You have to pay the entire fee of Rs 5600\n",
    "You have to attempt all the course assessments.\n",
    "I am joining late. How can I pay payment of the earlier months?\n",
    "You will get a link to pay fee of earlier months in your dashboard once you pay for the current month.\n",
    "I have read that Placement assistance is a part of this program. What comes under Placement assistance?\n",
    "This is to clarify that Placement assistance does not mean Placement guarantee. So we dont guarantee you any jobs or for that matter even interview calls. So if you are planning to join this course just for placements, I am afraid you will be disappointed. Here is what comes under placement assistance\n",
    "Portfolio Building sessions\n",
    "Soft skill sessions\n",
    "Sessions with industry mentors\n",
    "Discussion on Job hunting strategies\n",
    "\"\"\""
   ]
  },
  {
   "cell_type": "code",
   "execution_count": 3,
   "id": "a5b1e59b",
   "metadata": {
    "execution": {
     "iopub.execute_input": "2024-12-16T12:38:50.472676Z",
     "iopub.status.busy": "2024-12-16T12:38:50.472259Z",
     "iopub.status.idle": "2024-12-16T12:38:50.478839Z",
     "shell.execute_reply": "2024-12-16T12:38:50.477830Z"
    },
    "papermill": {
     "duration": 0.018243,
     "end_time": "2024-12-16T12:38:50.480945",
     "exception": false,
     "start_time": "2024-12-16T12:38:50.462702",
     "status": "completed"
    },
    "tags": []
   },
   "outputs": [],
   "source": [
    "doc = \"\"\"Retrieval Augmented Generation (RAG) is a technique that grants generative artificial intelligence models \n",
    "information retrieval capabilities. It modifies interactions with a large language model (LLM) so that the model \n",
    "responds to user queries with reference to a specified set of documents, using this information to augment information \n",
    "drawn from its own vast, static training data. This allows LLMs to use domain-specific and/or updated information. \n",
    "Use cases include providing chatbot access to internal company data or giving factual information only from an authoritative source.\n",
    "The RAG process is made up of four key stages. First, all the data must be prepared and indexed for use by the LLM. \n",
    "Thereafter, each query consists of a retrieval, augmentation, and generation phase.\n",
    "Indexing\n",
    "Typically, the data to be referenced is converted into LLM embeddings, numerical representations in the form of large vectors. \n",
    "RAG can be used on unstructured (usually text), semi-structured, or structured data (for example knowledge graphs).\n",
    "These embeddings are then stored in a vector database to allow for document retrieval.\n",
    "Overview of RAG process, combining external documents and user input into an LLM prompt to get tailored output\n",
    "Retrieval\n",
    "Given a user query, a document retriever is first called to select the most relevant documents that will be used to augment the query.\n",
    "This comparison can be done using a variety of methods, which depend in part on the type of indexing used.\n",
    "Augmentation\n",
    "The model feeds this relevant retrieved information into the LLM via prompt engineering of the user's original query.\n",
    "Newer implementations (as of 2023) can also incorporate specific augmentation modules with abilities such as expanding queries into multiple domains \n",
    "and using memory and self-improvement to learn from previous retrievals.\n",
    "Generation\n",
    "Finally, the LLM can generate output based on both the query and the retrieved documents.Some models incorporate extra steps to improve output, \n",
    "such as the re-ranking of retrieved information, context selection, and fine-tuning.\n",
    "Encoder\n",
    "These methods center around the encoding of text as either dense or sparse vectors. Sparse vectors, used to encode the identity of a word, \n",
    "are typically dictionary length and contain almost all zeros. Dense vectors, used to encode meaning, are much smaller and contain far fewer zeros. \n",
    "Several enhancements can be made to the way similarities are calculated in the vector stores (databases).\n",
    "Performance can be improved with faster dot products, approximate nearest neighors, or centroid searches.\n",
    "Accuracy can be improved with Late Interactions.\n",
    "Hybrid vectors: dense vector representations can be combined with sparse one-hot vectors in order to use the faster sparse dot products \n",
    "rather than the slower dense ones.Other[clarification needed] methods can combine sparse methods (BM25, SPLADE) with dense ones like DRAGON.\"\"\""
   ]
  },
  {
   "cell_type": "markdown",
   "id": "230cbb6e",
   "metadata": {
    "papermill": {
     "duration": 0.005963,
     "end_time": "2024-12-16T12:38:50.493257",
     "exception": false,
     "start_time": "2024-12-16T12:38:50.487294",
     "status": "completed"
    },
    "tags": []
   },
   "source": [
    "### Tokenize doc"
   ]
  },
  {
   "cell_type": "code",
   "execution_count": 4,
   "id": "51d66a6d",
   "metadata": {
    "execution": {
     "iopub.execute_input": "2024-12-16T12:38:50.507183Z",
     "iopub.status.busy": "2024-12-16T12:38:50.506807Z",
     "iopub.status.idle": "2024-12-16T12:39:04.938179Z",
     "shell.execute_reply": "2024-12-16T12:39:04.937098Z"
    },
    "papermill": {
     "duration": 14.441384,
     "end_time": "2024-12-16T12:39:04.940620",
     "exception": false,
     "start_time": "2024-12-16T12:38:50.499236",
     "status": "completed"
    },
    "tags": []
   },
   "outputs": [],
   "source": [
    "import tensorflow as tf\n",
    "from tensorflow.keras.preprocessing.text import Tokenizer"
   ]
  },
  {
   "cell_type": "code",
   "execution_count": 5,
   "id": "13d9d1fe",
   "metadata": {
    "execution": {
     "iopub.execute_input": "2024-12-16T12:39:04.954818Z",
     "iopub.status.busy": "2024-12-16T12:39:04.954164Z",
     "iopub.status.idle": "2024-12-16T12:39:04.959945Z",
     "shell.execute_reply": "2024-12-16T12:39:04.958593Z"
    },
    "papermill": {
     "duration": 0.015616,
     "end_time": "2024-12-16T12:39:04.962463",
     "exception": false,
     "start_time": "2024-12-16T12:39:04.946847",
     "status": "completed"
    },
    "tags": []
   },
   "outputs": [],
   "source": [
    "tokenizer = Tokenizer()\n",
    "tokenizer.fit_on_texts([doc])"
   ]
  },
  {
   "cell_type": "code",
   "execution_count": 6,
   "id": "fa92f8bb",
   "metadata": {
    "collapsed": true,
    "execution": {
     "iopub.execute_input": "2024-12-16T12:39:04.976148Z",
     "iopub.status.busy": "2024-12-16T12:39:04.975804Z",
     "iopub.status.idle": "2024-12-16T12:39:04.988725Z",
     "shell.execute_reply": "2024-12-16T12:39:04.987594Z"
    },
    "jupyter": {
     "outputs_hidden": true
    },
    "papermill": {
     "duration": 0.022114,
     "end_time": "2024-12-16T12:39:04.990754",
     "exception": false,
     "start_time": "2024-12-16T12:39:04.968640",
     "status": "completed"
    },
    "tags": []
   },
   "outputs": [
    {
     "data": {
      "text/plain": [
       "{'the': 1,\n",
       " 'to': 2,\n",
       " 'of': 3,\n",
       " 'and': 4,\n",
       " 'a': 5,\n",
       " 'be': 6,\n",
       " 'can': 7,\n",
       " 'information': 8,\n",
       " 'with': 9,\n",
       " 'llm': 10,\n",
       " 'vectors': 11,\n",
       " 'retrieval': 12,\n",
       " 'data': 13,\n",
       " 'or': 14,\n",
       " 'query': 15,\n",
       " 'in': 16,\n",
       " 'used': 17,\n",
       " 'dense': 18,\n",
       " 'sparse': 19,\n",
       " 'rag': 20,\n",
       " 'is': 21,\n",
       " 'documents': 22,\n",
       " 'this': 23,\n",
       " 'use': 24,\n",
       " 'into': 25,\n",
       " 'are': 26,\n",
       " 'methods': 27,\n",
       " 'as': 28,\n",
       " 'generation': 29,\n",
       " 'that': 30,\n",
       " 'model': 31,\n",
       " 'user': 32,\n",
       " 'using': 33,\n",
       " 'from': 34,\n",
       " 'for': 35,\n",
       " 'augmentation': 36,\n",
       " 'on': 37,\n",
       " 'vector': 38,\n",
       " 'output': 39,\n",
       " 'retrieved': 40,\n",
       " 'models': 41,\n",
       " 'interactions': 42,\n",
       " 'large': 43,\n",
       " 'queries': 44,\n",
       " 'augment': 45,\n",
       " 'specific': 46,\n",
       " 'an': 47,\n",
       " 'process': 48,\n",
       " 'made': 49,\n",
       " 'first': 50,\n",
       " 'all': 51,\n",
       " 'indexing': 52,\n",
       " 'typically': 53,\n",
       " 'embeddings': 54,\n",
       " 'representations': 55,\n",
       " 'text': 56,\n",
       " 'structured': 57,\n",
       " 'these': 58,\n",
       " 'document': 59,\n",
       " 'prompt': 60,\n",
       " 'relevant': 61,\n",
       " 'incorporate': 62,\n",
       " 'such': 63,\n",
       " 'encode': 64,\n",
       " 'contain': 65,\n",
       " 'zeros': 66,\n",
       " 'improved': 67,\n",
       " 'faster': 68,\n",
       " 'dot': 69,\n",
       " 'products': 70,\n",
       " 'ones': 71,\n",
       " 'augmented': 72,\n",
       " 'technique': 73,\n",
       " 'grants': 74,\n",
       " 'generative': 75,\n",
       " 'artificial': 76,\n",
       " 'intelligence': 77,\n",
       " 'capabilities': 78,\n",
       " 'it': 79,\n",
       " 'modifies': 80,\n",
       " 'language': 81,\n",
       " 'so': 82,\n",
       " 'responds': 83,\n",
       " 'reference': 84,\n",
       " 'specified': 85,\n",
       " 'set': 86,\n",
       " 'drawn': 87,\n",
       " 'its': 88,\n",
       " 'own': 89,\n",
       " 'vast': 90,\n",
       " 'static': 91,\n",
       " 'training': 92,\n",
       " 'allows': 93,\n",
       " 'llms': 94,\n",
       " 'domain': 95,\n",
       " 'updated': 96,\n",
       " 'cases': 97,\n",
       " 'include': 98,\n",
       " 'providing': 99,\n",
       " 'chatbot': 100,\n",
       " 'access': 101,\n",
       " 'internal': 102,\n",
       " 'company': 103,\n",
       " 'giving': 104,\n",
       " 'factual': 105,\n",
       " 'only': 106,\n",
       " 'authoritative': 107,\n",
       " 'source': 108,\n",
       " 'up': 109,\n",
       " 'four': 110,\n",
       " 'key': 111,\n",
       " 'stages': 112,\n",
       " 'must': 113,\n",
       " 'prepared': 114,\n",
       " 'indexed': 115,\n",
       " 'by': 116,\n",
       " 'thereafter': 117,\n",
       " 'each': 118,\n",
       " 'consists': 119,\n",
       " 'phase': 120,\n",
       " 'referenced': 121,\n",
       " 'converted': 122,\n",
       " 'numerical': 123,\n",
       " 'form': 124,\n",
       " 'unstructured': 125,\n",
       " 'usually': 126,\n",
       " 'semi': 127,\n",
       " 'example': 128,\n",
       " 'knowledge': 129,\n",
       " 'graphs': 130,\n",
       " 'then': 131,\n",
       " 'stored': 132,\n",
       " 'database': 133,\n",
       " 'allow': 134,\n",
       " 'overview': 135,\n",
       " 'combining': 136,\n",
       " 'external': 137,\n",
       " 'input': 138,\n",
       " 'get': 139,\n",
       " 'tailored': 140,\n",
       " 'given': 141,\n",
       " 'retriever': 142,\n",
       " 'called': 143,\n",
       " 'select': 144,\n",
       " 'most': 145,\n",
       " 'will': 146,\n",
       " 'comparison': 147,\n",
       " 'done': 148,\n",
       " 'variety': 149,\n",
       " 'which': 150,\n",
       " 'depend': 151,\n",
       " 'part': 152,\n",
       " 'type': 153,\n",
       " 'feeds': 154,\n",
       " 'via': 155,\n",
       " 'engineering': 156,\n",
       " \"user's\": 157,\n",
       " 'original': 158,\n",
       " 'newer': 159,\n",
       " 'implementations': 160,\n",
       " '2023': 161,\n",
       " 'also': 162,\n",
       " 'modules': 163,\n",
       " 'abilities': 164,\n",
       " 'expanding': 165,\n",
       " 'multiple': 166,\n",
       " 'domains': 167,\n",
       " 'memory': 168,\n",
       " 'self': 169,\n",
       " 'improvement': 170,\n",
       " 'learn': 171,\n",
       " 'previous': 172,\n",
       " 'retrievals': 173,\n",
       " 'finally': 174,\n",
       " 'generate': 175,\n",
       " 'based': 176,\n",
       " 'both': 177,\n",
       " 'some': 178,\n",
       " 'extra': 179,\n",
       " 'steps': 180,\n",
       " 'improve': 181,\n",
       " 're': 182,\n",
       " 'ranking': 183,\n",
       " 'context': 184,\n",
       " 'selection': 185,\n",
       " 'fine': 186,\n",
       " 'tuning': 187,\n",
       " 'encoder': 188,\n",
       " 'center': 189,\n",
       " 'around': 190,\n",
       " 'encoding': 191,\n",
       " 'either': 192,\n",
       " 'identity': 193,\n",
       " 'word': 194,\n",
       " 'dictionary': 195,\n",
       " 'length': 196,\n",
       " 'almost': 197,\n",
       " 'meaning': 198,\n",
       " 'much': 199,\n",
       " 'smaller': 200,\n",
       " 'far': 201,\n",
       " 'fewer': 202,\n",
       " 'several': 203,\n",
       " 'enhancements': 204,\n",
       " 'way': 205,\n",
       " 'similarities': 206,\n",
       " 'calculated': 207,\n",
       " 'stores': 208,\n",
       " 'databases': 209,\n",
       " 'performance': 210,\n",
       " 'approximate': 211,\n",
       " 'nearest': 212,\n",
       " 'neighors': 213,\n",
       " 'centroid': 214,\n",
       " 'searches': 215,\n",
       " 'accuracy': 216,\n",
       " 'late': 217,\n",
       " 'hybrid': 218,\n",
       " 'combined': 219,\n",
       " 'one': 220,\n",
       " 'hot': 221,\n",
       " 'order': 222,\n",
       " 'rather': 223,\n",
       " 'than': 224,\n",
       " 'slower': 225,\n",
       " 'other': 226,\n",
       " 'clarification': 227,\n",
       " 'needed': 228,\n",
       " 'combine': 229,\n",
       " 'bm25': 230,\n",
       " 'splade': 231,\n",
       " 'like': 232,\n",
       " 'dragon': 233}"
      ]
     },
     "execution_count": 6,
     "metadata": {},
     "output_type": "execute_result"
    }
   ],
   "source": [
    "tokenizer.word_index"
   ]
  },
  {
   "cell_type": "code",
   "execution_count": 7,
   "id": "83520303",
   "metadata": {
    "execution": {
     "iopub.execute_input": "2024-12-16T12:39:05.006377Z",
     "iopub.status.busy": "2024-12-16T12:39:05.005430Z",
     "iopub.status.idle": "2024-12-16T12:39:05.014108Z",
     "shell.execute_reply": "2024-12-16T12:39:05.012768Z"
    },
    "papermill": {
     "duration": 0.018691,
     "end_time": "2024-12-16T12:39:05.016152",
     "exception": false,
     "start_time": "2024-12-16T12:39:04.997461",
     "status": "completed"
    },
    "tags": []
   },
   "outputs": [],
   "source": [
    "input_seq = []\n",
    "for sent in doc.split('\\n'):\n",
    "    tokenized_sent = tokenizer.texts_to_sequences([sent])[0]\n",
    "    for i in range(1, len(tokenized_sent)):\n",
    "        input_seq.append(tokenized_sent[:i+1])"
   ]
  },
  {
   "cell_type": "code",
   "execution_count": 8,
   "id": "361192d9",
   "metadata": {
    "execution": {
     "iopub.execute_input": "2024-12-16T12:39:05.030341Z",
     "iopub.status.busy": "2024-12-16T12:39:05.029976Z",
     "iopub.status.idle": "2024-12-16T12:39:05.038267Z",
     "shell.execute_reply": "2024-12-16T12:39:05.037055Z"
    },
    "papermill": {
     "duration": 0.01801,
     "end_time": "2024-12-16T12:39:05.040433",
     "exception": false,
     "start_time": "2024-12-16T12:39:05.022423",
     "status": "completed"
    },
    "tags": []
   },
   "outputs": [
    {
     "data": {
      "text/plain": [
       "[[12, 72],\n",
       " [12, 72, 29],\n",
       " [12, 72, 29, 20],\n",
       " [12, 72, 29, 20, 21],\n",
       " [12, 72, 29, 20, 21, 5],\n",
       " [12, 72, 29, 20, 21, 5, 73],\n",
       " [12, 72, 29, 20, 21, 5, 73, 30],\n",
       " [12, 72, 29, 20, 21, 5, 73, 30, 74],\n",
       " [12, 72, 29, 20, 21, 5, 73, 30, 74, 75],\n",
       " [12, 72, 29, 20, 21, 5, 73, 30, 74, 75, 76],\n",
       " [12, 72, 29, 20, 21, 5, 73, 30, 74, 75, 76, 77],\n",
       " [12, 72, 29, 20, 21, 5, 73, 30, 74, 75, 76, 77, 41],\n",
       " [8, 12],\n",
       " [8, 12, 78],\n",
       " [8, 12, 78, 79]]"
      ]
     },
     "execution_count": 8,
     "metadata": {},
     "output_type": "execute_result"
    }
   ],
   "source": [
    "input_seq[:15]"
   ]
  },
  {
   "cell_type": "markdown",
   "id": "43bf4c06",
   "metadata": {
    "papermill": {
     "duration": 0.005953,
     "end_time": "2024-12-16T12:39:05.052915",
     "exception": false,
     "start_time": "2024-12-16T12:39:05.046962",
     "status": "completed"
    },
    "tags": []
   },
   "source": [
    "### Zero padding"
   ]
  },
  {
   "cell_type": "code",
   "execution_count": 9,
   "id": "9ece4dd6",
   "metadata": {
    "execution": {
     "iopub.execute_input": "2024-12-16T12:39:05.067467Z",
     "iopub.status.busy": "2024-12-16T12:39:05.067086Z",
     "iopub.status.idle": "2024-12-16T12:39:05.076041Z",
     "shell.execute_reply": "2024-12-16T12:39:05.074740Z"
    },
    "papermill": {
     "duration": 0.019854,
     "end_time": "2024-12-16T12:39:05.079393",
     "exception": false,
     "start_time": "2024-12-16T12:39:05.059539",
     "status": "completed"
    },
    "tags": []
   },
   "outputs": [
    {
     "data": {
      "text/plain": [
       "24"
      ]
     },
     "execution_count": 9,
     "metadata": {},
     "output_type": "execute_result"
    }
   ],
   "source": [
    "max_len = max([len(i) for i in input_seq])\n",
    "max_len"
   ]
  },
  {
   "cell_type": "code",
   "execution_count": 10,
   "id": "a54034c5",
   "metadata": {
    "execution": {
     "iopub.execute_input": "2024-12-16T12:39:05.103257Z",
     "iopub.status.busy": "2024-12-16T12:39:05.102736Z",
     "iopub.status.idle": "2024-12-16T12:39:05.117373Z",
     "shell.execute_reply": "2024-12-16T12:39:05.116009Z"
    },
    "papermill": {
     "duration": 0.028434,
     "end_time": "2024-12-16T12:39:05.120797",
     "exception": false,
     "start_time": "2024-12-16T12:39:05.092363",
     "status": "completed"
    },
    "tags": []
   },
   "outputs": [
    {
     "data": {
      "text/plain": [
       "array([[  0,   0,   0, ...,   0,  12,  72],\n",
       "       [  0,   0,   0, ...,  12,  72,  29],\n",
       "       [  0,   0,   0, ...,  72,  29,  20],\n",
       "       ...,\n",
       "       [  0,   0,   0, ...,   9,  18,  71],\n",
       "       [  0,   0,   0, ...,  18,  71, 232],\n",
       "       [  0,   0,   0, ...,  71, 232, 233]], dtype=int32)"
      ]
     },
     "execution_count": 10,
     "metadata": {},
     "output_type": "execute_result"
    }
   ],
   "source": [
    "from tensorflow.keras.preprocessing.sequence import pad_sequences\n",
    "padded_input_seq = pad_sequences(input_seq, maxlen = max_len, padding = 'pre')\n",
    "padded_input_seq"
   ]
  },
  {
   "cell_type": "markdown",
   "id": "14c16b2e",
   "metadata": {
    "papermill": {
     "duration": 0.009355,
     "end_time": "2024-12-16T12:39:05.138914",
     "exception": false,
     "start_time": "2024-12-16T12:39:05.129559",
     "status": "completed"
    },
    "tags": []
   },
   "source": [
    "### Create data for supervised learning"
   ]
  },
  {
   "cell_type": "code",
   "execution_count": 11,
   "id": "61d30463",
   "metadata": {
    "execution": {
     "iopub.execute_input": "2024-12-16T12:39:05.159902Z",
     "iopub.status.busy": "2024-12-16T12:39:05.159478Z",
     "iopub.status.idle": "2024-12-16T12:39:05.165240Z",
     "shell.execute_reply": "2024-12-16T12:39:05.163815Z"
    },
    "papermill": {
     "duration": 0.02087,
     "end_time": "2024-12-16T12:39:05.167329",
     "exception": false,
     "start_time": "2024-12-16T12:39:05.146459",
     "status": "completed"
    },
    "tags": []
   },
   "outputs": [],
   "source": [
    "X = padded_input_seq[:, :-1]\n",
    "y = padded_input_seq[:, -1]"
   ]
  },
  {
   "cell_type": "code",
   "execution_count": 12,
   "id": "ec8700d3",
   "metadata": {
    "execution": {
     "iopub.execute_input": "2024-12-16T12:39:05.182697Z",
     "iopub.status.busy": "2024-12-16T12:39:05.181871Z",
     "iopub.status.idle": "2024-12-16T12:39:05.189762Z",
     "shell.execute_reply": "2024-12-16T12:39:05.188380Z"
    },
    "papermill": {
     "duration": 0.01778,
     "end_time": "2024-12-16T12:39:05.191952",
     "exception": false,
     "start_time": "2024-12-16T12:39:05.174172",
     "status": "completed"
    },
    "tags": []
   },
   "outputs": [
    {
     "data": {
      "text/plain": [
       "((419, 23),\n",
       " array([[  0,   0,   0, ...,   0,   0,  12],\n",
       "        [  0,   0,   0, ...,   0,  12,  72],\n",
       "        [  0,   0,   0, ...,  12,  72,  29],\n",
       "        ...,\n",
       "        [  0,   0,   0, ..., 231,   9,  18],\n",
       "        [  0,   0,   0, ...,   9,  18,  71],\n",
       "        [  0,   0,   0, ...,  18,  71, 232]], dtype=int32))"
      ]
     },
     "execution_count": 12,
     "metadata": {},
     "output_type": "execute_result"
    }
   ],
   "source": [
    "X.shape, X"
   ]
  },
  {
   "cell_type": "code",
   "execution_count": 13,
   "id": "481e22c6",
   "metadata": {
    "execution": {
     "iopub.execute_input": "2024-12-16T12:39:05.207254Z",
     "iopub.status.busy": "2024-12-16T12:39:05.206869Z",
     "iopub.status.idle": "2024-12-16T12:39:05.214776Z",
     "shell.execute_reply": "2024-12-16T12:39:05.213660Z"
    },
    "papermill": {
     "duration": 0.018172,
     "end_time": "2024-12-16T12:39:05.216996",
     "exception": false,
     "start_time": "2024-12-16T12:39:05.198824",
     "status": "completed"
    },
    "tags": []
   },
   "outputs": [
    {
     "data": {
      "text/plain": [
       "((419,),\n",
       " array([ 72,  29,  20,  21,   5,  73,  30,  74,  75,  76,  77,  41,  12,\n",
       "         78,  79,  80,  42,   9,   5,  43,  81,  31,  10,  82,  30,   1,\n",
       "         31,   2,  32,  44,   9,  84,   2,   5,  85,  86,   3,  22,  33,\n",
       "         23,   8,   2,  45,   8,  34,  88,  89,  90,  91,  92,  13,  23,\n",
       "         93,  94,   2,  24,  95,  46,   4,  14,  96,   8,  97,  98,  99,\n",
       "        100, 101,   2, 102, 103,  13,  14, 104, 105,   8, 106,  34,  47,\n",
       "        107, 108,  20,  48,  21,  49, 109,   3, 110, 111, 112,  50,  51,\n",
       "          1,  13, 113,   6, 114,   4, 115,  35,  24, 116,   1,  10, 118,\n",
       "         15, 119,   3,   5,  12,  36,   4,  29, 120,   1,  13,   2,   6,\n",
       "        121,  21, 122,  25,  10,  54, 123,  55,  16,   1, 124,   3,  43,\n",
       "         11,   7,   6,  17,  37, 125, 126,  56, 127,  57,  14,  57,  13,\n",
       "         35, 128, 129, 130,  54,  26, 131, 132,  16,   5,  38, 133,   2,\n",
       "        134,  35,  59,  12,   3,  20,  48, 136, 137,  22,   4,  32, 138,\n",
       "         25,  47,  10,  60,   2, 139, 140,  39,   5,  32,  15,   5,  59,\n",
       "        142,  21,  50, 143,   2, 144,   1, 145,  61,  22,  30, 146,   6,\n",
       "         17,   2,  45,   1,  15, 147,   7,   6, 148,  33,   5, 149,   3,\n",
       "         27, 150, 151,  16, 152,  37,   1, 153,   3,  52,  17,  31, 154,\n",
       "         23,  61,  40,   8,  25,   1,  10, 155,  60, 156,   3,   1, 157,\n",
       "        158,  15, 160,  28,   3, 161,   7, 162,  62,  46,  36, 163,   9,\n",
       "        164,  63,  28, 165,  44,  25, 166, 167,  33, 168,   4, 169, 170,\n",
       "          2, 171,  34, 172, 173,   1,  10,   7, 175,  39, 176,  37, 177,\n",
       "          1,  15,   4,   1,  40,  22, 178,  41,  62, 179, 180,   2, 181,\n",
       "         39,  28,   1, 182, 183,   3,  40,   8, 184, 185,   4, 186, 187,\n",
       "         27, 189, 190,   1, 191,   3,  56,  28, 192,  18,  14,  19,  11,\n",
       "         19,  11,  17,   2,  64,   1, 193,   3,   5, 194,  53, 195, 196,\n",
       "          4,  65, 197,  51,  66,  18,  11,  17,   2,  64, 198,  26, 199,\n",
       "        200,   4,  65, 201, 202,  66, 204,   7,   6,  49,   2,   1, 205,\n",
       "        206,  26, 207,  16,   1,  38, 208, 209,   7,   6,  67,   9,  68,\n",
       "         69,  70, 211, 212, 213,  14, 214, 215,   7,   6,  67,   9, 217,\n",
       "         42,  11,  18,  38,  55,   7,   6, 219,   9,  19, 220, 221,  11,\n",
       "         16, 222,   2,  24,   1,  68,  19,  69,  70, 224,   1, 225,  18,\n",
       "         71, 226, 227, 228,  27,   7, 229,  19,  27, 230, 231,   9,  18,\n",
       "         71, 232, 233], dtype=int32))"
      ]
     },
     "execution_count": 13,
     "metadata": {},
     "output_type": "execute_result"
    }
   ],
   "source": [
    "y.shape, y"
   ]
  },
  {
   "cell_type": "code",
   "execution_count": 14,
   "id": "7d2983aa",
   "metadata": {
    "execution": {
     "iopub.execute_input": "2024-12-16T12:39:05.231989Z",
     "iopub.status.busy": "2024-12-16T12:39:05.231622Z",
     "iopub.status.idle": "2024-12-16T12:39:05.241581Z",
     "shell.execute_reply": "2024-12-16T12:39:05.240567Z"
    },
    "papermill": {
     "duration": 0.019927,
     "end_time": "2024-12-16T12:39:05.243732",
     "exception": false,
     "start_time": "2024-12-16T12:39:05.223805",
     "status": "completed"
    },
    "tags": []
   },
   "outputs": [
    {
     "data": {
      "text/plain": [
       "(419, 234)"
      ]
     },
     "execution_count": 14,
     "metadata": {},
     "output_type": "execute_result"
    }
   ],
   "source": [
    "from tensorflow.keras.utils import to_categorical\n",
    "\n",
    "y = to_categorical(y, num_classes = len(tokenizer.word_index)+1)\n",
    "y.shape"
   ]
  },
  {
   "cell_type": "code",
   "execution_count": 15,
   "id": "4d5ec724",
   "metadata": {
    "execution": {
     "iopub.execute_input": "2024-12-16T12:39:05.259177Z",
     "iopub.status.busy": "2024-12-16T12:39:05.258801Z",
     "iopub.status.idle": "2024-12-16T12:39:05.267469Z",
     "shell.execute_reply": "2024-12-16T12:39:05.266468Z"
    },
    "papermill": {
     "duration": 0.018935,
     "end_time": "2024-12-16T12:39:05.269728",
     "exception": false,
     "start_time": "2024-12-16T12:39:05.250793",
     "status": "completed"
    },
    "tags": []
   },
   "outputs": [
    {
     "data": {
      "text/plain": [
       "array([[0., 0., 0., ..., 0., 0., 0.],\n",
       "       [0., 0., 0., ..., 0., 0., 0.],\n",
       "       [0., 0., 0., ..., 0., 0., 0.],\n",
       "       ...,\n",
       "       [0., 0., 0., ..., 0., 0., 0.],\n",
       "       [0., 0., 0., ..., 0., 1., 0.],\n",
       "       [0., 0., 0., ..., 0., 0., 1.]])"
      ]
     },
     "execution_count": 15,
     "metadata": {},
     "output_type": "execute_result"
    }
   ],
   "source": [
    "y"
   ]
  },
  {
   "cell_type": "markdown",
   "id": "7ac793a1",
   "metadata": {
    "papermill": {
     "duration": 0.006754,
     "end_time": "2024-12-16T12:39:05.283467",
     "exception": false,
     "start_time": "2024-12-16T12:39:05.276713",
     "status": "completed"
    },
    "tags": []
   },
   "source": [
    "### LSTM Model"
   ]
  },
  {
   "cell_type": "code",
   "execution_count": 16,
   "id": "92f3d268",
   "metadata": {
    "execution": {
     "iopub.execute_input": "2024-12-16T12:39:05.298957Z",
     "iopub.status.busy": "2024-12-16T12:39:05.298571Z",
     "iopub.status.idle": "2024-12-16T12:39:05.306635Z",
     "shell.execute_reply": "2024-12-16T12:39:05.305560Z"
    },
    "papermill": {
     "duration": 0.018876,
     "end_time": "2024-12-16T12:39:05.309221",
     "exception": false,
     "start_time": "2024-12-16T12:39:05.290345",
     "status": "completed"
    },
    "tags": []
   },
   "outputs": [],
   "source": [
    "from tensorflow.keras.models import Sequential\n",
    "from tensorflow.keras.layers import Dense, Embedding, LSTM"
   ]
  },
  {
   "cell_type": "code",
   "execution_count": 17,
   "id": "eee8cdfe",
   "metadata": {
    "execution": {
     "iopub.execute_input": "2024-12-16T12:39:05.325050Z",
     "iopub.status.busy": "2024-12-16T12:39:05.324680Z",
     "iopub.status.idle": "2024-12-16T12:39:05.450628Z",
     "shell.execute_reply": "2024-12-16T12:39:05.449590Z"
    },
    "papermill": {
     "duration": 0.136738,
     "end_time": "2024-12-16T12:39:05.453149",
     "exception": false,
     "start_time": "2024-12-16T12:39:05.316411",
     "status": "completed"
    },
    "tags": []
   },
   "outputs": [
    {
     "name": "stderr",
     "output_type": "stream",
     "text": [
      "/opt/conda/lib/python3.10/site-packages/keras/src/layers/core/embedding.py:90: UserWarning: Argument `input_length` is deprecated. Just remove it.\n",
      "  warnings.warn(\n"
     ]
    }
   ],
   "source": [
    "model = Sequential()\n",
    "\n",
    "model.add(Embedding(234, 100, input_length = 23))\n",
    "model.add(LSTM(150))\n",
    "model.add(Dense(234, activation = 'softmax'))\n",
    "model.build(input_shape=(None, 23))"
   ]
  },
  {
   "cell_type": "code",
   "execution_count": 18,
   "id": "f6de3dcd",
   "metadata": {
    "execution": {
     "iopub.execute_input": "2024-12-16T12:39:05.469274Z",
     "iopub.status.busy": "2024-12-16T12:39:05.468478Z",
     "iopub.status.idle": "2024-12-16T12:39:05.483099Z",
     "shell.execute_reply": "2024-12-16T12:39:05.481899Z"
    },
    "papermill": {
     "duration": 0.025382,
     "end_time": "2024-12-16T12:39:05.485513",
     "exception": false,
     "start_time": "2024-12-16T12:39:05.460131",
     "status": "completed"
    },
    "tags": []
   },
   "outputs": [],
   "source": [
    "model.compile(loss = 'categorical_crossentropy', optimizer = 'Adam', metrics = ['accuracy'])"
   ]
  },
  {
   "cell_type": "code",
   "execution_count": 19,
   "id": "d824ce40",
   "metadata": {
    "execution": {
     "iopub.execute_input": "2024-12-16T12:39:05.501261Z",
     "iopub.status.busy": "2024-12-16T12:39:05.500911Z",
     "iopub.status.idle": "2024-12-16T12:39:05.521648Z",
     "shell.execute_reply": "2024-12-16T12:39:05.520617Z"
    },
    "papermill": {
     "duration": 0.03118,
     "end_time": "2024-12-16T12:39:05.523734",
     "exception": false,
     "start_time": "2024-12-16T12:39:05.492554",
     "status": "completed"
    },
    "tags": []
   },
   "outputs": [
    {
     "data": {
      "text/html": [
       "<pre style=\"white-space:pre;overflow-x:auto;line-height:normal;font-family:Menlo,'DejaVu Sans Mono',consolas,'Courier New',monospace\"><span style=\"font-weight: bold\">Model: \"sequential\"</span>\n",
       "</pre>\n"
      ],
      "text/plain": [
       "\u001b[1mModel: \"sequential\"\u001b[0m\n"
      ]
     },
     "metadata": {},
     "output_type": "display_data"
    },
    {
     "data": {
      "text/html": [
       "<pre style=\"white-space:pre;overflow-x:auto;line-height:normal;font-family:Menlo,'DejaVu Sans Mono',consolas,'Courier New',monospace\">┏━━━━━━━━━━━━━━━━━━━━━━━━━━━━━━━━━┳━━━━━━━━━━━━━━━━━━━━━━━━┳━━━━━━━━━━━━━━━┓\n",
       "┃<span style=\"font-weight: bold\"> Layer (type)                    </span>┃<span style=\"font-weight: bold\"> Output Shape           </span>┃<span style=\"font-weight: bold\">       Param # </span>┃\n",
       "┡━━━━━━━━━━━━━━━━━━━━━━━━━━━━━━━━━╇━━━━━━━━━━━━━━━━━━━━━━━━╇━━━━━━━━━━━━━━━┩\n",
       "│ embedding (<span style=\"color: #0087ff; text-decoration-color: #0087ff\">Embedding</span>)           │ (<span style=\"color: #00d7ff; text-decoration-color: #00d7ff\">None</span>, <span style=\"color: #00af00; text-decoration-color: #00af00\">23</span>, <span style=\"color: #00af00; text-decoration-color: #00af00\">100</span>)        │        <span style=\"color: #00af00; text-decoration-color: #00af00\">23,400</span> │\n",
       "├─────────────────────────────────┼────────────────────────┼───────────────┤\n",
       "│ lstm (<span style=\"color: #0087ff; text-decoration-color: #0087ff\">LSTM</span>)                     │ (<span style=\"color: #00d7ff; text-decoration-color: #00d7ff\">None</span>, <span style=\"color: #00af00; text-decoration-color: #00af00\">150</span>)            │       <span style=\"color: #00af00; text-decoration-color: #00af00\">150,600</span> │\n",
       "├─────────────────────────────────┼────────────────────────┼───────────────┤\n",
       "│ dense (<span style=\"color: #0087ff; text-decoration-color: #0087ff\">Dense</span>)                   │ (<span style=\"color: #00d7ff; text-decoration-color: #00d7ff\">None</span>, <span style=\"color: #00af00; text-decoration-color: #00af00\">234</span>)            │        <span style=\"color: #00af00; text-decoration-color: #00af00\">35,334</span> │\n",
       "└─────────────────────────────────┴────────────────────────┴───────────────┘\n",
       "</pre>\n"
      ],
      "text/plain": [
       "┏━━━━━━━━━━━━━━━━━━━━━━━━━━━━━━━━━┳━━━━━━━━━━━━━━━━━━━━━━━━┳━━━━━━━━━━━━━━━┓\n",
       "┃\u001b[1m \u001b[0m\u001b[1mLayer (type)                   \u001b[0m\u001b[1m \u001b[0m┃\u001b[1m \u001b[0m\u001b[1mOutput Shape          \u001b[0m\u001b[1m \u001b[0m┃\u001b[1m \u001b[0m\u001b[1m      Param #\u001b[0m\u001b[1m \u001b[0m┃\n",
       "┡━━━━━━━━━━━━━━━━━━━━━━━━━━━━━━━━━╇━━━━━━━━━━━━━━━━━━━━━━━━╇━━━━━━━━━━━━━━━┩\n",
       "│ embedding (\u001b[38;5;33mEmbedding\u001b[0m)           │ (\u001b[38;5;45mNone\u001b[0m, \u001b[38;5;34m23\u001b[0m, \u001b[38;5;34m100\u001b[0m)        │        \u001b[38;5;34m23,400\u001b[0m │\n",
       "├─────────────────────────────────┼────────────────────────┼───────────────┤\n",
       "│ lstm (\u001b[38;5;33mLSTM\u001b[0m)                     │ (\u001b[38;5;45mNone\u001b[0m, \u001b[38;5;34m150\u001b[0m)            │       \u001b[38;5;34m150,600\u001b[0m │\n",
       "├─────────────────────────────────┼────────────────────────┼───────────────┤\n",
       "│ dense (\u001b[38;5;33mDense\u001b[0m)                   │ (\u001b[38;5;45mNone\u001b[0m, \u001b[38;5;34m234\u001b[0m)            │        \u001b[38;5;34m35,334\u001b[0m │\n",
       "└─────────────────────────────────┴────────────────────────┴───────────────┘\n"
      ]
     },
     "metadata": {},
     "output_type": "display_data"
    },
    {
     "data": {
      "text/html": [
       "<pre style=\"white-space:pre;overflow-x:auto;line-height:normal;font-family:Menlo,'DejaVu Sans Mono',consolas,'Courier New',monospace\"><span style=\"font-weight: bold\"> Total params: </span><span style=\"color: #00af00; text-decoration-color: #00af00\">209,334</span> (817.71 KB)\n",
       "</pre>\n"
      ],
      "text/plain": [
       "\u001b[1m Total params: \u001b[0m\u001b[38;5;34m209,334\u001b[0m (817.71 KB)\n"
      ]
     },
     "metadata": {},
     "output_type": "display_data"
    },
    {
     "data": {
      "text/html": [
       "<pre style=\"white-space:pre;overflow-x:auto;line-height:normal;font-family:Menlo,'DejaVu Sans Mono',consolas,'Courier New',monospace\"><span style=\"font-weight: bold\"> Trainable params: </span><span style=\"color: #00af00; text-decoration-color: #00af00\">209,334</span> (817.71 KB)\n",
       "</pre>\n"
      ],
      "text/plain": [
       "\u001b[1m Trainable params: \u001b[0m\u001b[38;5;34m209,334\u001b[0m (817.71 KB)\n"
      ]
     },
     "metadata": {},
     "output_type": "display_data"
    },
    {
     "data": {
      "text/html": [
       "<pre style=\"white-space:pre;overflow-x:auto;line-height:normal;font-family:Menlo,'DejaVu Sans Mono',consolas,'Courier New',monospace\"><span style=\"font-weight: bold\"> Non-trainable params: </span><span style=\"color: #00af00; text-decoration-color: #00af00\">0</span> (0.00 B)\n",
       "</pre>\n"
      ],
      "text/plain": [
       "\u001b[1m Non-trainable params: \u001b[0m\u001b[38;5;34m0\u001b[0m (0.00 B)\n"
      ]
     },
     "metadata": {},
     "output_type": "display_data"
    }
   ],
   "source": [
    "model.summary()"
   ]
  },
  {
   "cell_type": "code",
   "execution_count": 20,
   "id": "d098dc26",
   "metadata": {
    "execution": {
     "iopub.execute_input": "2024-12-16T12:39:05.540639Z",
     "iopub.status.busy": "2024-12-16T12:39:05.540243Z",
     "iopub.status.idle": "2024-12-16T12:39:48.228078Z",
     "shell.execute_reply": "2024-12-16T12:39:48.227026Z"
    },
    "papermill": {
     "duration": 42.698894,
     "end_time": "2024-12-16T12:39:48.230263",
     "exception": false,
     "start_time": "2024-12-16T12:39:05.531369",
     "status": "completed"
    },
    "tags": []
   },
   "outputs": [
    {
     "name": "stdout",
     "output_type": "stream",
     "text": [
      "Epoch 1/100\n",
      "\u001b[1m14/14\u001b[0m \u001b[32m━━━━━━━━━━━━━━━━━━━━\u001b[0m\u001b[37m\u001b[0m \u001b[1m3s\u001b[0m 26ms/step - accuracy: 0.0171 - loss: 5.4513\n",
      "Epoch 2/100\n",
      "\u001b[1m14/14\u001b[0m \u001b[32m━━━━━━━━━━━━━━━━━━━━\u001b[0m\u001b[37m\u001b[0m \u001b[1m0s\u001b[0m 25ms/step - accuracy: 0.0536 - loss: 5.2806\n",
      "Epoch 3/100\n",
      "\u001b[1m14/14\u001b[0m \u001b[32m━━━━━━━━━━━━━━━━━━━━\u001b[0m\u001b[37m\u001b[0m \u001b[1m0s\u001b[0m 25ms/step - accuracy: 0.0417 - loss: 5.0413\n",
      "Epoch 4/100\n",
      "\u001b[1m14/14\u001b[0m \u001b[32m━━━━━━━━━━━━━━━━━━━━\u001b[0m\u001b[37m\u001b[0m \u001b[1m0s\u001b[0m 25ms/step - accuracy: 0.0300 - loss: 5.0572\n",
      "Epoch 5/100\n",
      "\u001b[1m14/14\u001b[0m \u001b[32m━━━━━━━━━━━━━━━━━━━━\u001b[0m\u001b[37m\u001b[0m \u001b[1m0s\u001b[0m 26ms/step - accuracy: 0.0322 - loss: 5.0046\n",
      "Epoch 6/100\n",
      "\u001b[1m14/14\u001b[0m \u001b[32m━━━━━━━━━━━━━━━━━━━━\u001b[0m\u001b[37m\u001b[0m \u001b[1m0s\u001b[0m 26ms/step - accuracy: 0.0679 - loss: 4.9448\n",
      "Epoch 7/100\n",
      "\u001b[1m14/14\u001b[0m \u001b[32m━━━━━━━━━━━━━━━━━━━━\u001b[0m\u001b[37m\u001b[0m \u001b[1m0s\u001b[0m 25ms/step - accuracy: 0.0531 - loss: 4.9991\n",
      "Epoch 8/100\n",
      "\u001b[1m14/14\u001b[0m \u001b[32m━━━━━━━━━━━━━━━━━━━━\u001b[0m\u001b[37m\u001b[0m \u001b[1m0s\u001b[0m 26ms/step - accuracy: 0.0539 - loss: 4.9554\n",
      "Epoch 9/100\n",
      "\u001b[1m14/14\u001b[0m \u001b[32m━━━━━━━━━━━━━━━━━━━━\u001b[0m\u001b[37m\u001b[0m \u001b[1m0s\u001b[0m 33ms/step - accuracy: 0.0469 - loss: 4.9387\n",
      "Epoch 10/100\n",
      "\u001b[1m14/14\u001b[0m \u001b[32m━━━━━━━━━━━━━━━━━━━━\u001b[0m\u001b[37m\u001b[0m \u001b[1m0s\u001b[0m 32ms/step - accuracy: 0.0699 - loss: 4.7746\n",
      "Epoch 11/100\n",
      "\u001b[1m14/14\u001b[0m \u001b[32m━━━━━━━━━━━━━━━━━━━━\u001b[0m\u001b[37m\u001b[0m \u001b[1m0s\u001b[0m 30ms/step - accuracy: 0.0579 - loss: 4.7942\n",
      "Epoch 12/100\n",
      "\u001b[1m14/14\u001b[0m \u001b[32m━━━━━━━━━━━━━━━━━━━━\u001b[0m\u001b[37m\u001b[0m \u001b[1m0s\u001b[0m 30ms/step - accuracy: 0.0698 - loss: 4.6239\n",
      "Epoch 13/100\n",
      "\u001b[1m14/14\u001b[0m \u001b[32m━━━━━━━━━━━━━━━━━━━━\u001b[0m\u001b[37m\u001b[0m \u001b[1m0s\u001b[0m 29ms/step - accuracy: 0.0798 - loss: 4.5467\n",
      "Epoch 14/100\n",
      "\u001b[1m14/14\u001b[0m \u001b[32m━━━━━━━━━━━━━━━━━━━━\u001b[0m\u001b[37m\u001b[0m \u001b[1m0s\u001b[0m 24ms/step - accuracy: 0.0901 - loss: 4.4400\n",
      "Epoch 15/100\n",
      "\u001b[1m14/14\u001b[0m \u001b[32m━━━━━━━━━━━━━━━━━━━━\u001b[0m\u001b[37m\u001b[0m \u001b[1m0s\u001b[0m 25ms/step - accuracy: 0.1210 - loss: 4.2619\n",
      "Epoch 16/100\n",
      "\u001b[1m14/14\u001b[0m \u001b[32m━━━━━━━━━━━━━━━━━━━━\u001b[0m\u001b[37m\u001b[0m \u001b[1m0s\u001b[0m 25ms/step - accuracy: 0.1200 - loss: 4.2687\n",
      "Epoch 17/100\n",
      "\u001b[1m14/14\u001b[0m \u001b[32m━━━━━━━━━━━━━━━━━━━━\u001b[0m\u001b[37m\u001b[0m \u001b[1m0s\u001b[0m 25ms/step - accuracy: 0.1239 - loss: 4.0843\n",
      "Epoch 18/100\n",
      "\u001b[1m14/14\u001b[0m \u001b[32m━━━━━━━━━━━━━━━━━━━━\u001b[0m\u001b[37m\u001b[0m \u001b[1m0s\u001b[0m 28ms/step - accuracy: 0.1456 - loss: 3.9307\n",
      "Epoch 19/100\n",
      "\u001b[1m14/14\u001b[0m \u001b[32m━━━━━━━━━━━━━━━━━━━━\u001b[0m\u001b[37m\u001b[0m \u001b[1m0s\u001b[0m 25ms/step - accuracy: 0.1532 - loss: 3.8174\n",
      "Epoch 20/100\n",
      "\u001b[1m14/14\u001b[0m \u001b[32m━━━━━━━━━━━━━━━━━━━━\u001b[0m\u001b[37m\u001b[0m \u001b[1m0s\u001b[0m 26ms/step - accuracy: 0.1562 - loss: 3.6276\n",
      "Epoch 21/100\n",
      "\u001b[1m14/14\u001b[0m \u001b[32m━━━━━━━━━━━━━━━━━━━━\u001b[0m\u001b[37m\u001b[0m \u001b[1m0s\u001b[0m 25ms/step - accuracy: 0.2072 - loss: 3.5388\n",
      "Epoch 22/100\n",
      "\u001b[1m14/14\u001b[0m \u001b[32m━━━━━━━━━━━━━━━━━━━━\u001b[0m\u001b[37m\u001b[0m \u001b[1m0s\u001b[0m 25ms/step - accuracy: 0.1970 - loss: 3.4286\n",
      "Epoch 23/100\n",
      "\u001b[1m14/14\u001b[0m \u001b[32m━━━━━━━━━━━━━━━━━━━━\u001b[0m\u001b[37m\u001b[0m \u001b[1m0s\u001b[0m 25ms/step - accuracy: 0.2785 - loss: 3.1736\n",
      "Epoch 24/100\n",
      "\u001b[1m14/14\u001b[0m \u001b[32m━━━━━━━━━━━━━━━━━━━━\u001b[0m\u001b[37m\u001b[0m \u001b[1m0s\u001b[0m 26ms/step - accuracy: 0.2689 - loss: 3.0993\n",
      "Epoch 25/100\n",
      "\u001b[1m14/14\u001b[0m \u001b[32m━━━━━━━━━━━━━━━━━━━━\u001b[0m\u001b[37m\u001b[0m \u001b[1m0s\u001b[0m 26ms/step - accuracy: 0.3121 - loss: 2.9463\n",
      "Epoch 26/100\n",
      "\u001b[1m14/14\u001b[0m \u001b[32m━━━━━━━━━━━━━━━━━━━━\u001b[0m\u001b[37m\u001b[0m \u001b[1m0s\u001b[0m 26ms/step - accuracy: 0.3487 - loss: 2.8374\n",
      "Epoch 27/100\n",
      "\u001b[1m14/14\u001b[0m \u001b[32m━━━━━━━━━━━━━━━━━━━━\u001b[0m\u001b[37m\u001b[0m \u001b[1m1s\u001b[0m 25ms/step - accuracy: 0.3594 - loss: 2.6873\n",
      "Epoch 28/100\n",
      "\u001b[1m14/14\u001b[0m \u001b[32m━━━━━━━━━━━━━━━━━━━━\u001b[0m\u001b[37m\u001b[0m \u001b[1m0s\u001b[0m 25ms/step - accuracy: 0.3730 - loss: 2.5699\n",
      "Epoch 29/100\n",
      "\u001b[1m14/14\u001b[0m \u001b[32m━━━━━━━━━━━━━━━━━━━━\u001b[0m\u001b[37m\u001b[0m \u001b[1m0s\u001b[0m 26ms/step - accuracy: 0.4739 - loss: 2.3673\n",
      "Epoch 30/100\n",
      "\u001b[1m14/14\u001b[0m \u001b[32m━━━━━━━━━━━━━━━━━━━━\u001b[0m\u001b[37m\u001b[0m \u001b[1m0s\u001b[0m 26ms/step - accuracy: 0.4775 - loss: 2.3369\n",
      "Epoch 31/100\n",
      "\u001b[1m14/14\u001b[0m \u001b[32m━━━━━━━━━━━━━━━━━━━━\u001b[0m\u001b[37m\u001b[0m \u001b[1m0s\u001b[0m 26ms/step - accuracy: 0.5507 - loss: 2.1601\n",
      "Epoch 32/100\n",
      "\u001b[1m14/14\u001b[0m \u001b[32m━━━━━━━━━━━━━━━━━━━━\u001b[0m\u001b[37m\u001b[0m \u001b[1m0s\u001b[0m 25ms/step - accuracy: 0.5662 - loss: 2.0850\n",
      "Epoch 33/100\n",
      "\u001b[1m14/14\u001b[0m \u001b[32m━━━━━━━━━━━━━━━━━━━━\u001b[0m\u001b[37m\u001b[0m \u001b[1m0s\u001b[0m 26ms/step - accuracy: 0.5977 - loss: 1.9540\n",
      "Epoch 34/100\n",
      "\u001b[1m14/14\u001b[0m \u001b[32m━━━━━━━━━━━━━━━━━━━━\u001b[0m\u001b[37m\u001b[0m \u001b[1m0s\u001b[0m 25ms/step - accuracy: 0.6127 - loss: 1.8606\n",
      "Epoch 35/100\n",
      "\u001b[1m14/14\u001b[0m \u001b[32m━━━━━━━━━━━━━━━━━━━━\u001b[0m\u001b[37m\u001b[0m \u001b[1m0s\u001b[0m 25ms/step - accuracy: 0.6657 - loss: 1.7642\n",
      "Epoch 36/100\n",
      "\u001b[1m14/14\u001b[0m \u001b[32m━━━━━━━━━━━━━━━━━━━━\u001b[0m\u001b[37m\u001b[0m \u001b[1m1s\u001b[0m 25ms/step - accuracy: 0.6734 - loss: 1.6823\n",
      "Epoch 37/100\n",
      "\u001b[1m14/14\u001b[0m \u001b[32m━━━━━━━━━━━━━━━━━━━━\u001b[0m\u001b[37m\u001b[0m \u001b[1m1s\u001b[0m 25ms/step - accuracy: 0.7284 - loss: 1.5626\n",
      "Epoch 38/100\n",
      "\u001b[1m14/14\u001b[0m \u001b[32m━━━━━━━━━━━━━━━━━━━━\u001b[0m\u001b[37m\u001b[0m \u001b[1m0s\u001b[0m 25ms/step - accuracy: 0.7340 - loss: 1.5036\n",
      "Epoch 39/100\n",
      "\u001b[1m14/14\u001b[0m \u001b[32m━━━━━━━━━━━━━━━━━━━━\u001b[0m\u001b[37m\u001b[0m \u001b[1m0s\u001b[0m 25ms/step - accuracy: 0.7371 - loss: 1.4572\n",
      "Epoch 40/100\n",
      "\u001b[1m14/14\u001b[0m \u001b[32m━━━━━━━━━━━━━━━━━━━━\u001b[0m\u001b[37m\u001b[0m \u001b[1m0s\u001b[0m 25ms/step - accuracy: 0.7917 - loss: 1.3703\n",
      "Epoch 41/100\n",
      "\u001b[1m14/14\u001b[0m \u001b[32m━━━━━━━━━━━━━━━━━━━━\u001b[0m\u001b[37m\u001b[0m \u001b[1m0s\u001b[0m 25ms/step - accuracy: 0.8056 - loss: 1.3374\n",
      "Epoch 42/100\n",
      "\u001b[1m14/14\u001b[0m \u001b[32m━━━━━━━━━━━━━━━━━━━━\u001b[0m\u001b[37m\u001b[0m \u001b[1m0s\u001b[0m 26ms/step - accuracy: 0.8235 - loss: 1.2372\n",
      "Epoch 43/100\n",
      "\u001b[1m14/14\u001b[0m \u001b[32m━━━━━━━━━━━━━━━━━━━━\u001b[0m\u001b[37m\u001b[0m \u001b[1m0s\u001b[0m 27ms/step - accuracy: 0.8175 - loss: 1.2009\n",
      "Epoch 44/100\n",
      "\u001b[1m14/14\u001b[0m \u001b[32m━━━━━━━━━━━━━━━━━━━━\u001b[0m\u001b[37m\u001b[0m \u001b[1m0s\u001b[0m 25ms/step - accuracy: 0.8970 - loss: 1.1079\n",
      "Epoch 45/100\n",
      "\u001b[1m14/14\u001b[0m \u001b[32m━━━━━━━━━━━━━━━━━━━━\u001b[0m\u001b[37m\u001b[0m \u001b[1m0s\u001b[0m 25ms/step - accuracy: 0.8949 - loss: 1.0611\n",
      "Epoch 46/100\n",
      "\u001b[1m14/14\u001b[0m \u001b[32m━━━━━━━━━━━━━━━━━━━━\u001b[0m\u001b[37m\u001b[0m \u001b[1m0s\u001b[0m 24ms/step - accuracy: 0.8967 - loss: 0.9948\n",
      "Epoch 47/100\n",
      "\u001b[1m14/14\u001b[0m \u001b[32m━━━━━━━━━━━━━━━━━━━━\u001b[0m\u001b[37m\u001b[0m \u001b[1m0s\u001b[0m 25ms/step - accuracy: 0.9345 - loss: 0.9161\n",
      "Epoch 48/100\n",
      "\u001b[1m14/14\u001b[0m \u001b[32m━━━━━━━━━━━━━━━━━━━━\u001b[0m\u001b[37m\u001b[0m \u001b[1m0s\u001b[0m 25ms/step - accuracy: 0.9265 - loss: 0.9081\n",
      "Epoch 49/100\n",
      "\u001b[1m14/14\u001b[0m \u001b[32m━━━━━━━━━━━━━━━━━━━━\u001b[0m\u001b[37m\u001b[0m \u001b[1m0s\u001b[0m 25ms/step - accuracy: 0.9195 - loss: 0.8306\n",
      "Epoch 50/100\n",
      "\u001b[1m14/14\u001b[0m \u001b[32m━━━━━━━━━━━━━━━━━━━━\u001b[0m\u001b[37m\u001b[0m \u001b[1m0s\u001b[0m 25ms/step - accuracy: 0.9252 - loss: 0.8235\n",
      "Epoch 51/100\n",
      "\u001b[1m14/14\u001b[0m \u001b[32m━━━━━━━━━━━━━━━━━━━━\u001b[0m\u001b[37m\u001b[0m \u001b[1m0s\u001b[0m 25ms/step - accuracy: 0.9292 - loss: 0.8367\n",
      "Epoch 52/100\n",
      "\u001b[1m14/14\u001b[0m \u001b[32m━━━━━━━━━━━━━━━━━━━━\u001b[0m\u001b[37m\u001b[0m \u001b[1m0s\u001b[0m 25ms/step - accuracy: 0.9428 - loss: 0.7320\n",
      "Epoch 53/100\n",
      "\u001b[1m14/14\u001b[0m \u001b[32m━━━━━━━━━━━━━━━━━━━━\u001b[0m\u001b[37m\u001b[0m \u001b[1m0s\u001b[0m 25ms/step - accuracy: 0.9590 - loss: 0.6879\n",
      "Epoch 54/100\n",
      "\u001b[1m14/14\u001b[0m \u001b[32m━━━━━━━━━━━━━━━━━━━━\u001b[0m\u001b[37m\u001b[0m \u001b[1m1s\u001b[0m 25ms/step - accuracy: 0.9614 - loss: 0.6768\n",
      "Epoch 55/100\n",
      "\u001b[1m14/14\u001b[0m \u001b[32m━━━━━━━━━━━━━━━━━━━━\u001b[0m\u001b[37m\u001b[0m \u001b[1m0s\u001b[0m 25ms/step - accuracy: 0.9644 - loss: 0.6798\n",
      "Epoch 56/100\n",
      "\u001b[1m14/14\u001b[0m \u001b[32m━━━━━━━━━━━━━━━━━━━━\u001b[0m\u001b[37m\u001b[0m \u001b[1m0s\u001b[0m 25ms/step - accuracy: 0.9661 - loss: 0.6159\n",
      "Epoch 57/100\n",
      "\u001b[1m14/14\u001b[0m \u001b[32m━━━━━━━━━━━━━━━━━━━━\u001b[0m\u001b[37m\u001b[0m \u001b[1m1s\u001b[0m 26ms/step - accuracy: 0.9702 - loss: 0.5822\n",
      "Epoch 58/100\n",
      "\u001b[1m14/14\u001b[0m \u001b[32m━━━━━━━━━━━━━━━━━━━━\u001b[0m\u001b[37m\u001b[0m \u001b[1m0s\u001b[0m 26ms/step - accuracy: 0.9813 - loss: 0.5617\n",
      "Epoch 59/100\n",
      "\u001b[1m14/14\u001b[0m \u001b[32m━━━━━━━━━━━━━━━━━━━━\u001b[0m\u001b[37m\u001b[0m \u001b[1m0s\u001b[0m 26ms/step - accuracy: 0.9779 - loss: 0.5421\n",
      "Epoch 60/100\n",
      "\u001b[1m14/14\u001b[0m \u001b[32m━━━━━━━━━━━━━━━━━━━━\u001b[0m\u001b[37m\u001b[0m \u001b[1m0s\u001b[0m 25ms/step - accuracy: 0.9823 - loss: 0.5179\n",
      "Epoch 61/100\n",
      "\u001b[1m14/14\u001b[0m \u001b[32m━━━━━━━━━━━━━━━━━━━━\u001b[0m\u001b[37m\u001b[0m \u001b[1m0s\u001b[0m 25ms/step - accuracy: 0.9832 - loss: 0.4720\n",
      "Epoch 62/100\n",
      "\u001b[1m14/14\u001b[0m \u001b[32m━━━━━━━━━━━━━━━━━━━━\u001b[0m\u001b[37m\u001b[0m \u001b[1m0s\u001b[0m 25ms/step - accuracy: 0.9894 - loss: 0.4474\n",
      "Epoch 63/100\n",
      "\u001b[1m14/14\u001b[0m \u001b[32m━━━━━━━━━━━━━━━━━━━━\u001b[0m\u001b[37m\u001b[0m \u001b[1m0s\u001b[0m 25ms/step - accuracy: 0.9887 - loss: 0.4658\n",
      "Epoch 64/100\n",
      "\u001b[1m14/14\u001b[0m \u001b[32m━━━━━━━━━━━━━━━━━━━━\u001b[0m\u001b[37m\u001b[0m \u001b[1m0s\u001b[0m 26ms/step - accuracy: 0.9819 - loss: 0.4407\n",
      "Epoch 65/100\n",
      "\u001b[1m14/14\u001b[0m \u001b[32m━━━━━━━━━━━━━━━━━━━━\u001b[0m\u001b[37m\u001b[0m \u001b[1m0s\u001b[0m 25ms/step - accuracy: 0.9888 - loss: 0.4136\n",
      "Epoch 66/100\n",
      "\u001b[1m14/14\u001b[0m \u001b[32m━━━━━━━━━━━━━━━━━━━━\u001b[0m\u001b[37m\u001b[0m \u001b[1m0s\u001b[0m 25ms/step - accuracy: 0.9785 - loss: 0.4044\n",
      "Epoch 67/100\n",
      "\u001b[1m14/14\u001b[0m \u001b[32m━━━━━━━━━━━━━━━━━━━━\u001b[0m\u001b[37m\u001b[0m \u001b[1m0s\u001b[0m 26ms/step - accuracy: 0.9875 - loss: 0.3642\n",
      "Epoch 68/100\n",
      "\u001b[1m14/14\u001b[0m \u001b[32m━━━━━━━━━━━━━━━━━━━━\u001b[0m\u001b[37m\u001b[0m \u001b[1m0s\u001b[0m 27ms/step - accuracy: 0.9904 - loss: 0.3494\n",
      "Epoch 69/100\n",
      "\u001b[1m14/14\u001b[0m \u001b[32m━━━━━━━━━━━━━━━━━━━━\u001b[0m\u001b[37m\u001b[0m \u001b[1m0s\u001b[0m 27ms/step - accuracy: 0.9895 - loss: 0.3379\n",
      "Epoch 70/100\n",
      "\u001b[1m14/14\u001b[0m \u001b[32m━━━━━━━━━━━━━━━━━━━━\u001b[0m\u001b[37m\u001b[0m \u001b[1m0s\u001b[0m 26ms/step - accuracy: 0.9845 - loss: 0.3289\n",
      "Epoch 71/100\n",
      "\u001b[1m14/14\u001b[0m \u001b[32m━━━━━━━━━━━━━━━━━━━━\u001b[0m\u001b[37m\u001b[0m \u001b[1m0s\u001b[0m 26ms/step - accuracy: 0.9966 - loss: 0.3105\n",
      "Epoch 72/100\n",
      "\u001b[1m14/14\u001b[0m \u001b[32m━━━━━━━━━━━━━━━━━━━━\u001b[0m\u001b[37m\u001b[0m \u001b[1m0s\u001b[0m 26ms/step - accuracy: 0.9896 - loss: 0.3138\n",
      "Epoch 73/100\n",
      "\u001b[1m14/14\u001b[0m \u001b[32m━━━━━━━━━━━━━━━━━━━━\u001b[0m\u001b[37m\u001b[0m \u001b[1m0s\u001b[0m 26ms/step - accuracy: 0.9932 - loss: 0.2863\n",
      "Epoch 74/100\n",
      "\u001b[1m14/14\u001b[0m \u001b[32m━━━━━━━━━━━━━━━━━━━━\u001b[0m\u001b[37m\u001b[0m \u001b[1m0s\u001b[0m 25ms/step - accuracy: 0.9968 - loss: 0.2773\n",
      "Epoch 75/100\n",
      "\u001b[1m14/14\u001b[0m \u001b[32m━━━━━━━━━━━━━━━━━━━━\u001b[0m\u001b[37m\u001b[0m \u001b[1m0s\u001b[0m 25ms/step - accuracy: 0.9920 - loss: 0.2559\n",
      "Epoch 76/100\n",
      "\u001b[1m14/14\u001b[0m \u001b[32m━━━━━━━━━━━━━━━━━━━━\u001b[0m\u001b[37m\u001b[0m \u001b[1m0s\u001b[0m 25ms/step - accuracy: 0.9936 - loss: 0.2526\n",
      "Epoch 77/100\n",
      "\u001b[1m14/14\u001b[0m \u001b[32m━━━━━━━━━━━━━━━━━━━━\u001b[0m\u001b[37m\u001b[0m \u001b[1m0s\u001b[0m 25ms/step - accuracy: 0.9923 - loss: 0.2542\n",
      "Epoch 78/100\n",
      "\u001b[1m14/14\u001b[0m \u001b[32m━━━━━━━━━━━━━━━━━━━━\u001b[0m\u001b[37m\u001b[0m \u001b[1m0s\u001b[0m 25ms/step - accuracy: 0.9934 - loss: 0.2364\n",
      "Epoch 79/100\n",
      "\u001b[1m14/14\u001b[0m \u001b[32m━━━━━━━━━━━━━━━━━━━━\u001b[0m\u001b[37m\u001b[0m \u001b[1m0s\u001b[0m 25ms/step - accuracy: 0.9989 - loss: 0.2251\n",
      "Epoch 80/100\n",
      "\u001b[1m14/14\u001b[0m \u001b[32m━━━━━━━━━━━━━━━━━━━━\u001b[0m\u001b[37m\u001b[0m \u001b[1m0s\u001b[0m 25ms/step - accuracy: 0.9941 - loss: 0.2189\n",
      "Epoch 81/100\n",
      "\u001b[1m14/14\u001b[0m \u001b[32m━━━━━━━━━━━━━━━━━━━━\u001b[0m\u001b[37m\u001b[0m \u001b[1m0s\u001b[0m 25ms/step - accuracy: 0.9852 - loss: 0.2162\n",
      "Epoch 82/100\n",
      "\u001b[1m14/14\u001b[0m \u001b[32m━━━━━━━━━━━━━━━━━━━━\u001b[0m\u001b[37m\u001b[0m \u001b[1m0s\u001b[0m 25ms/step - accuracy: 0.9987 - loss: 0.2005\n",
      "Epoch 83/100\n",
      "\u001b[1m14/14\u001b[0m \u001b[32m━━━━━━━━━━━━━━━━━━━━\u001b[0m\u001b[37m\u001b[0m \u001b[1m0s\u001b[0m 25ms/step - accuracy: 0.9975 - loss: 0.1943\n",
      "Epoch 84/100\n",
      "\u001b[1m14/14\u001b[0m \u001b[32m━━━━━━━━━━━━━━━━━━━━\u001b[0m\u001b[37m\u001b[0m \u001b[1m0s\u001b[0m 25ms/step - accuracy: 0.9953 - loss: 0.1999\n",
      "Epoch 85/100\n",
      "\u001b[1m14/14\u001b[0m \u001b[32m━━━━━━━━━━━━━━━━━━━━\u001b[0m\u001b[37m\u001b[0m \u001b[1m0s\u001b[0m 25ms/step - accuracy: 0.9967 - loss: 0.1893\n",
      "Epoch 86/100\n",
      "\u001b[1m14/14\u001b[0m \u001b[32m━━━━━━━━━━━━━━━━━━━━\u001b[0m\u001b[37m\u001b[0m \u001b[1m0s\u001b[0m 25ms/step - accuracy: 0.9929 - loss: 0.1905\n",
      "Epoch 87/100\n",
      "\u001b[1m14/14\u001b[0m \u001b[32m━━━━━━━━━━━━━━━━━━━━\u001b[0m\u001b[37m\u001b[0m \u001b[1m0s\u001b[0m 25ms/step - accuracy: 0.9937 - loss: 0.1918\n",
      "Epoch 88/100\n",
      "\u001b[1m14/14\u001b[0m \u001b[32m━━━━━━━━━━━━━━━━━━━━\u001b[0m\u001b[37m\u001b[0m \u001b[1m0s\u001b[0m 25ms/step - accuracy: 0.9936 - loss: 0.1588\n",
      "Epoch 89/100\n",
      "\u001b[1m14/14\u001b[0m \u001b[32m━━━━━━━━━━━━━━━━━━━━\u001b[0m\u001b[37m\u001b[0m \u001b[1m0s\u001b[0m 28ms/step - accuracy: 0.9976 - loss: 0.1642\n",
      "Epoch 90/100\n",
      "\u001b[1m14/14\u001b[0m \u001b[32m━━━━━━━━━━━━━━━━━━━━\u001b[0m\u001b[37m\u001b[0m \u001b[1m0s\u001b[0m 32ms/step - accuracy: 0.9979 - loss: 0.1505\n",
      "Epoch 91/100\n",
      "\u001b[1m14/14\u001b[0m \u001b[32m━━━━━━━━━━━━━━━━━━━━\u001b[0m\u001b[37m\u001b[0m \u001b[1m0s\u001b[0m 30ms/step - accuracy: 0.9894 - loss: 0.1566\n",
      "Epoch 92/100\n",
      "\u001b[1m14/14\u001b[0m \u001b[32m━━━━━━━━━━━━━━━━━━━━\u001b[0m\u001b[37m\u001b[0m \u001b[1m0s\u001b[0m 29ms/step - accuracy: 0.9930 - loss: 0.1490\n",
      "Epoch 93/100\n",
      "\u001b[1m14/14\u001b[0m \u001b[32m━━━━━━━━━━━━━━━━━━━━\u001b[0m\u001b[37m\u001b[0m \u001b[1m1s\u001b[0m 35ms/step - accuracy: 0.9844 - loss: 0.1517\n",
      "Epoch 94/100\n",
      "\u001b[1m14/14\u001b[0m \u001b[32m━━━━━━━━━━━━━━━━━━━━\u001b[0m\u001b[37m\u001b[0m \u001b[1m0s\u001b[0m 26ms/step - accuracy: 0.9990 - loss: 0.1386\n",
      "Epoch 95/100\n",
      "\u001b[1m14/14\u001b[0m \u001b[32m━━━━━━━━━━━━━━━━━━━━\u001b[0m\u001b[37m\u001b[0m \u001b[1m0s\u001b[0m 25ms/step - accuracy: 0.9947 - loss: 0.1330\n",
      "Epoch 96/100\n",
      "\u001b[1m14/14\u001b[0m \u001b[32m━━━━━━━━━━━━━━━━━━━━\u001b[0m\u001b[37m\u001b[0m \u001b[1m0s\u001b[0m 25ms/step - accuracy: 0.9984 - loss: 0.1192\n",
      "Epoch 97/100\n",
      "\u001b[1m14/14\u001b[0m \u001b[32m━━━━━━━━━━━━━━━━━━━━\u001b[0m\u001b[37m\u001b[0m \u001b[1m1s\u001b[0m 25ms/step - accuracy: 0.9992 - loss: 0.1251\n",
      "Epoch 98/100\n",
      "\u001b[1m14/14\u001b[0m \u001b[32m━━━━━━━━━━━━━━━━━━━━\u001b[0m\u001b[37m\u001b[0m \u001b[1m0s\u001b[0m 24ms/step - accuracy: 0.9967 - loss: 0.1254\n",
      "Epoch 99/100\n",
      "\u001b[1m14/14\u001b[0m \u001b[32m━━━━━━━━━━━━━━━━━━━━\u001b[0m\u001b[37m\u001b[0m \u001b[1m0s\u001b[0m 25ms/step - accuracy: 0.9961 - loss: 0.1210\n",
      "Epoch 100/100\n",
      "\u001b[1m14/14\u001b[0m \u001b[32m━━━━━━━━━━━━━━━━━━━━\u001b[0m\u001b[37m\u001b[0m \u001b[1m0s\u001b[0m 25ms/step - accuracy: 0.9969 - loss: 0.1252\n"
     ]
    },
    {
     "data": {
      "text/plain": [
       "<keras.src.callbacks.history.History at 0x7b49a4db4880>"
      ]
     },
     "execution_count": 20,
     "metadata": {},
     "output_type": "execute_result"
    }
   ],
   "source": [
    "model.fit(X, y, epochs = 100)"
   ]
  },
  {
   "cell_type": "code",
   "execution_count": 21,
   "id": "7396abd8",
   "metadata": {
    "execution": {
     "iopub.execute_input": "2024-12-16T12:39:48.342669Z",
     "iopub.status.busy": "2024-12-16T12:39:48.341668Z",
     "iopub.status.idle": "2024-12-16T12:39:48.348333Z",
     "shell.execute_reply": "2024-12-16T12:39:48.347303Z"
    },
    "papermill": {
     "duration": 0.065206,
     "end_time": "2024-12-16T12:39:48.350291",
     "exception": false,
     "start_time": "2024-12-16T12:39:48.285085",
     "status": "completed"
    },
    "tags": []
   },
   "outputs": [
    {
     "data": {
      "text/plain": [
       "24"
      ]
     },
     "execution_count": 21,
     "metadata": {},
     "output_type": "execute_result"
    }
   ],
   "source": [
    "max_len"
   ]
  },
  {
   "cell_type": "code",
   "execution_count": 22,
   "id": "85f87310",
   "metadata": {
    "execution": {
     "iopub.execute_input": "2024-12-16T12:39:48.459702Z",
     "iopub.status.busy": "2024-12-16T12:39:48.459300Z",
     "iopub.status.idle": "2024-12-16T12:39:48.680781Z",
     "shell.execute_reply": "2024-12-16T12:39:48.679488Z"
    },
    "papermill": {
     "duration": 0.279474,
     "end_time": "2024-12-16T12:39:48.683256",
     "exception": false,
     "start_time": "2024-12-16T12:39:48.403782",
     "status": "completed"
    },
    "tags": []
   },
   "outputs": [
    {
     "name": "stdout",
     "output_type": "stream",
     "text": [
      "\u001b[1m1/1\u001b[0m \u001b[32m━━━━━━━━━━━━━━━━━━━━\u001b[0m\u001b[37m\u001b[0m \u001b[1m0s\u001b[0m 170ms/step\n"
     ]
    }
   ],
   "source": [
    "text = \"retrieval\"\n",
    "\n",
    "# tokenize\n",
    "token_text = tokenizer.texts_to_sequences([text])[0]\n",
    "# pad\n",
    "padded_text = pad_sequences([token_text], maxlen = max_len, padding = 'pre')\n",
    "# predict\n",
    "predicted_out = model.predict(padded_text)"
   ]
  },
  {
   "cell_type": "code",
   "execution_count": 23,
   "id": "1f9ab11b",
   "metadata": {
    "execution": {
     "iopub.execute_input": "2024-12-16T12:39:48.792822Z",
     "iopub.status.busy": "2024-12-16T12:39:48.792444Z",
     "iopub.status.idle": "2024-12-16T12:39:48.798941Z",
     "shell.execute_reply": "2024-12-16T12:39:48.797713Z"
    },
    "papermill": {
     "duration": 0.064006,
     "end_time": "2024-12-16T12:39:48.801122",
     "exception": false,
     "start_time": "2024-12-16T12:39:48.737116",
     "status": "completed"
    },
    "tags": []
   },
   "outputs": [
    {
     "name": "stdout",
     "output_type": "stream",
     "text": [
      "augmented\n"
     ]
    }
   ],
   "source": [
    "pos = np.argmax(predicted_out)\n",
    "for word, index in tokenizer.word_index.items():\n",
    "    if index == pos:\n",
    "        print(word)"
   ]
  },
  {
   "cell_type": "code",
   "execution_count": 24,
   "id": "de79bda5",
   "metadata": {
    "execution": {
     "iopub.execute_input": "2024-12-16T12:39:48.912073Z",
     "iopub.status.busy": "2024-12-16T12:39:48.911393Z",
     "iopub.status.idle": "2024-12-16T12:39:49.202756Z",
     "shell.execute_reply": "2024-12-16T12:39:49.201595Z"
    },
    "papermill": {
     "duration": 0.34935,
     "end_time": "2024-12-16T12:39:49.204891",
     "exception": false,
     "start_time": "2024-12-16T12:39:48.855541",
     "status": "completed"
    },
    "tags": []
   },
   "outputs": [
    {
     "name": "stdout",
     "output_type": "stream",
     "text": [
      "\u001b[1m1/1\u001b[0m \u001b[32m━━━━━━━━━━━━━━━━━━━━\u001b[0m\u001b[37m\u001b[0m \u001b[1m0s\u001b[0m 24ms/step\n",
      "retrieval augmented\n",
      "\u001b[1m1/1\u001b[0m \u001b[32m━━━━━━━━━━━━━━━━━━━━\u001b[0m\u001b[37m\u001b[0m \u001b[1m0s\u001b[0m 23ms/step\n",
      "retrieval augmented generation\n",
      "\u001b[1m1/1\u001b[0m \u001b[32m━━━━━━━━━━━━━━━━━━━━\u001b[0m\u001b[37m\u001b[0m \u001b[1m0s\u001b[0m 24ms/step\n",
      "retrieval augmented generation rag\n",
      "\u001b[1m1/1\u001b[0m \u001b[32m━━━━━━━━━━━━━━━━━━━━\u001b[0m\u001b[37m\u001b[0m \u001b[1m0s\u001b[0m 24ms/step\n",
      "retrieval augmented generation rag is\n"
     ]
    }
   ],
   "source": [
    "text = \"retrieval\"\n",
    "for i in range(4):\n",
    "    # tokenize\n",
    "    token_text = tokenizer.texts_to_sequences([text])[0]\n",
    "    # pad\n",
    "    padded_text = pad_sequences([token_text], maxlen = max_len, padding = 'pre')\n",
    "    # predict\n",
    "    predicted_out = model.predict(padded_text)\n",
    "    pos = np.argmax(predicted_out)\n",
    "    for word, index in tokenizer.word_index.items():\n",
    "        if index == pos:\n",
    "            text = text + \" \" + word\n",
    "            print(text)"
   ]
  },
  {
   "cell_type": "code",
   "execution_count": 25,
   "id": "efec6ec3",
   "metadata": {
    "execution": {
     "iopub.execute_input": "2024-12-16T12:39:49.315204Z",
     "iopub.status.busy": "2024-12-16T12:39:49.314861Z",
     "iopub.status.idle": "2024-12-16T12:39:50.034772Z",
     "shell.execute_reply": "2024-12-16T12:39:50.033672Z"
    },
    "papermill": {
     "duration": 0.777628,
     "end_time": "2024-12-16T12:39:50.037029",
     "exception": false,
     "start_time": "2024-12-16T12:39:49.259401",
     "status": "completed"
    },
    "tags": []
   },
   "outputs": [
    {
     "name": "stdout",
     "output_type": "stream",
     "text": [
      "\u001b[1m1/1\u001b[0m \u001b[32m━━━━━━━━━━━━━━━━━━━━\u001b[0m\u001b[37m\u001b[0m \u001b[1m0s\u001b[0m 23ms/step\n",
      "deep learning can\n",
      "\u001b[1m1/1\u001b[0m \u001b[32m━━━━━━━━━━━━━━━━━━━━\u001b[0m\u001b[37m\u001b[0m \u001b[1m0s\u001b[0m 23ms/step\n",
      "deep learning can be\n",
      "\u001b[1m1/1\u001b[0m \u001b[32m━━━━━━━━━━━━━━━━━━━━\u001b[0m\u001b[37m\u001b[0m \u001b[1m0s\u001b[0m 23ms/step\n",
      "deep learning can be improved\n",
      "\u001b[1m1/1\u001b[0m \u001b[32m━━━━━━━━━━━━━━━━━━━━\u001b[0m\u001b[37m\u001b[0m \u001b[1m0s\u001b[0m 23ms/step\n",
      "deep learning can be improved with\n",
      "\u001b[1m1/1\u001b[0m \u001b[32m━━━━━━━━━━━━━━━━━━━━\u001b[0m\u001b[37m\u001b[0m \u001b[1m0s\u001b[0m 23ms/step\n",
      "deep learning can be improved with late\n",
      "\u001b[1m1/1\u001b[0m \u001b[32m━━━━━━━━━━━━━━━━━━━━\u001b[0m\u001b[37m\u001b[0m \u001b[1m0s\u001b[0m 24ms/step\n",
      "deep learning can be improved with late interactions\n",
      "\u001b[1m1/1\u001b[0m \u001b[32m━━━━━━━━━━━━━━━━━━━━\u001b[0m\u001b[37m\u001b[0m \u001b[1m0s\u001b[0m 24ms/step\n",
      "deep learning can be improved with late interactions with\n",
      "\u001b[1m1/1\u001b[0m \u001b[32m━━━━━━━━━━━━━━━━━━━━\u001b[0m\u001b[37m\u001b[0m \u001b[1m0s\u001b[0m 23ms/step\n",
      "deep learning can be improved with late interactions with a\n",
      "\u001b[1m1/1\u001b[0m \u001b[32m━━━━━━━━━━━━━━━━━━━━\u001b[0m\u001b[37m\u001b[0m \u001b[1m0s\u001b[0m 26ms/step\n",
      "deep learning can be improved with late interactions with a large\n",
      "\u001b[1m1/1\u001b[0m \u001b[32m━━━━━━━━━━━━━━━━━━━━\u001b[0m\u001b[37m\u001b[0m \u001b[1m0s\u001b[0m 23ms/step\n",
      "deep learning can be improved with late interactions with a large language\n"
     ]
    }
   ],
   "source": [
    "text = \"deep learning\"\n",
    "for i in range(10):\n",
    "    # tokenize\n",
    "    token_text = tokenizer.texts_to_sequences([text])[0]\n",
    "    # pad\n",
    "    padded_text = pad_sequences([token_text], maxlen = max_len, padding = 'pre')\n",
    "    # predict\n",
    "    predicted_out = model.predict(padded_text)\n",
    "    pos = np.argmax(predicted_out)\n",
    "    for word, index in tokenizer.word_index.items():\n",
    "        if index == pos:\n",
    "            text = text + \" \" + word\n",
    "            print(text)"
   ]
  },
  {
   "cell_type": "code",
   "execution_count": null,
   "id": "52946d3e",
   "metadata": {
    "papermill": {
     "duration": 0.056703,
     "end_time": "2024-12-16T12:39:50.206756",
     "exception": false,
     "start_time": "2024-12-16T12:39:50.150053",
     "status": "completed"
    },
    "tags": []
   },
   "outputs": [],
   "source": []
  }
 ],
 "metadata": {
  "kaggle": {
   "accelerator": "none",
   "dataSources": [],
   "dockerImageVersionId": 30804,
   "isGpuEnabled": false,
   "isInternetEnabled": true,
   "language": "python",
   "sourceType": "notebook"
  },
  "kernelspec": {
   "display_name": "Python 3",
   "language": "python",
   "name": "python3"
  },
  "language_info": {
   "codemirror_mode": {
    "name": "ipython",
    "version": 3
   },
   "file_extension": ".py",
   "mimetype": "text/x-python",
   "name": "python",
   "nbconvert_exporter": "python",
   "pygments_lexer": "ipython3",
   "version": "3.10.14"
  },
  "papermill": {
   "default_parameters": {},
   "duration": 65.164138,
   "end_time": "2024-12-16T12:39:51.788237",
   "environment_variables": {},
   "exception": null,
   "input_path": "__notebook__.ipynb",
   "output_path": "__notebook__.ipynb",
   "parameters": {},
   "start_time": "2024-12-16T12:38:46.624099",
   "version": "2.6.0"
  }
 },
 "nbformat": 4,
 "nbformat_minor": 5
}
