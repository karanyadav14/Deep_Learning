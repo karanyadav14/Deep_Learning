{
 "cells": [
  {
   "cell_type": "code",
   "execution_count": 1,
   "id": "42d921e4",
   "metadata": {
    "execution": {
     "iopub.execute_input": "2024-12-14T10:15:28.183696Z",
     "iopub.status.busy": "2024-12-14T10:15:28.182683Z",
     "iopub.status.idle": "2024-12-14T10:15:28.192382Z",
     "shell.execute_reply": "2024-12-14T10:15:28.191297Z"
    },
    "papermill": {
     "duration": 0.01693,
     "end_time": "2024-12-14T10:15:28.194721",
     "exception": false,
     "start_time": "2024-12-14T10:15:28.177791",
     "status": "completed"
    },
    "tags": []
   },
   "outputs": [],
   "source": [
    "import os\n",
    "for dirname, _, filenames in os.walk('/kaggle/input'):\n",
    "    for filename in filenames:\n",
    "        print(os.path.join(dirname, filename))\n"
   ]
  },
  {
   "cell_type": "code",
   "execution_count": 2,
   "id": "d5f4a7fd",
   "metadata": {
    "execution": {
     "iopub.execute_input": "2024-12-14T10:15:28.202093Z",
     "iopub.status.busy": "2024-12-14T10:15:28.201677Z",
     "iopub.status.idle": "2024-12-14T10:15:42.967669Z",
     "shell.execute_reply": "2024-12-14T10:15:42.966466Z"
    },
    "papermill": {
     "duration": 14.772479,
     "end_time": "2024-12-14T10:15:42.970185",
     "exception": false,
     "start_time": "2024-12-14T10:15:28.197706",
     "status": "completed"
    },
    "tags": []
   },
   "outputs": [],
   "source": [
    "from keras import Sequential\n",
    "from keras.layers import Dense, SimpleRNN"
   ]
  },
  {
   "cell_type": "code",
   "execution_count": 3,
   "id": "2977e156",
   "metadata": {
    "execution": {
     "iopub.execute_input": "2024-12-14T10:15:42.977563Z",
     "iopub.status.busy": "2024-12-14T10:15:42.976956Z",
     "iopub.status.idle": "2024-12-14T10:15:43.104087Z",
     "shell.execute_reply": "2024-12-14T10:15:43.102935Z"
    },
    "papermill": {
     "duration": 0.133153,
     "end_time": "2024-12-14T10:15:43.106179",
     "exception": false,
     "start_time": "2024-12-14T10:15:42.973026",
     "status": "completed"
    },
    "tags": []
   },
   "outputs": [
    {
     "name": "stderr",
     "output_type": "stream",
     "text": [
      "/opt/conda/lib/python3.10/site-packages/keras/src/layers/rnn/rnn.py:204: UserWarning: Do not pass an `input_shape`/`input_dim` argument to a layer. When using Sequential models, prefer using an `Input(shape)` object as the first layer in the model instead.\n",
      "  super().__init__(**kwargs)\n"
     ]
    },
    {
     "data": {
      "text/html": [
       "<pre style=\"white-space:pre;overflow-x:auto;line-height:normal;font-family:Menlo,'DejaVu Sans Mono',consolas,'Courier New',monospace\"><span style=\"font-weight: bold\">Model: \"sequential\"</span>\n",
       "</pre>\n"
      ],
      "text/plain": [
       "\u001b[1mModel: \"sequential\"\u001b[0m\n"
      ]
     },
     "metadata": {},
     "output_type": "display_data"
    },
    {
     "data": {
      "text/html": [
       "<pre style=\"white-space:pre;overflow-x:auto;line-height:normal;font-family:Menlo,'DejaVu Sans Mono',consolas,'Courier New',monospace\">┏━━━━━━━━━━━━━━━━━━━━━━━━━━━━━━━━━┳━━━━━━━━━━━━━━━━━━━━━━━━┳━━━━━━━━━━━━━━━┓\n",
       "┃<span style=\"font-weight: bold\"> Layer (type)                    </span>┃<span style=\"font-weight: bold\"> Output Shape           </span>┃<span style=\"font-weight: bold\">       Param # </span>┃\n",
       "┡━━━━━━━━━━━━━━━━━━━━━━━━━━━━━━━━━╇━━━━━━━━━━━━━━━━━━━━━━━━╇━━━━━━━━━━━━━━━┩\n",
       "│ simple_rnn (<span style=\"color: #0087ff; text-decoration-color: #0087ff\">SimpleRNN</span>)          │ (<span style=\"color: #00d7ff; text-decoration-color: #00d7ff\">None</span>, <span style=\"color: #00af00; text-decoration-color: #00af00\">3</span>)              │            <span style=\"color: #00af00; text-decoration-color: #00af00\">27</span> │\n",
       "├─────────────────────────────────┼────────────────────────┼───────────────┤\n",
       "│ dense (<span style=\"color: #0087ff; text-decoration-color: #0087ff\">Dense</span>)                   │ (<span style=\"color: #00d7ff; text-decoration-color: #00d7ff\">None</span>, <span style=\"color: #00af00; text-decoration-color: #00af00\">1</span>)              │             <span style=\"color: #00af00; text-decoration-color: #00af00\">4</span> │\n",
       "└─────────────────────────────────┴────────────────────────┴───────────────┘\n",
       "</pre>\n"
      ],
      "text/plain": [
       "┏━━━━━━━━━━━━━━━━━━━━━━━━━━━━━━━━━┳━━━━━━━━━━━━━━━━━━━━━━━━┳━━━━━━━━━━━━━━━┓\n",
       "┃\u001b[1m \u001b[0m\u001b[1mLayer (type)                   \u001b[0m\u001b[1m \u001b[0m┃\u001b[1m \u001b[0m\u001b[1mOutput Shape          \u001b[0m\u001b[1m \u001b[0m┃\u001b[1m \u001b[0m\u001b[1m      Param #\u001b[0m\u001b[1m \u001b[0m┃\n",
       "┡━━━━━━━━━━━━━━━━━━━━━━━━━━━━━━━━━╇━━━━━━━━━━━━━━━━━━━━━━━━╇━━━━━━━━━━━━━━━┩\n",
       "│ simple_rnn (\u001b[38;5;33mSimpleRNN\u001b[0m)          │ (\u001b[38;5;45mNone\u001b[0m, \u001b[38;5;34m3\u001b[0m)              │            \u001b[38;5;34m27\u001b[0m │\n",
       "├─────────────────────────────────┼────────────────────────┼───────────────┤\n",
       "│ dense (\u001b[38;5;33mDense\u001b[0m)                   │ (\u001b[38;5;45mNone\u001b[0m, \u001b[38;5;34m1\u001b[0m)              │             \u001b[38;5;34m4\u001b[0m │\n",
       "└─────────────────────────────────┴────────────────────────┴───────────────┘\n"
      ]
     },
     "metadata": {},
     "output_type": "display_data"
    },
    {
     "data": {
      "text/html": [
       "<pre style=\"white-space:pre;overflow-x:auto;line-height:normal;font-family:Menlo,'DejaVu Sans Mono',consolas,'Courier New',monospace\"><span style=\"font-weight: bold\"> Total params: </span><span style=\"color: #00af00; text-decoration-color: #00af00\">31</span> (124.00 B)\n",
       "</pre>\n"
      ],
      "text/plain": [
       "\u001b[1m Total params: \u001b[0m\u001b[38;5;34m31\u001b[0m (124.00 B)\n"
      ]
     },
     "metadata": {},
     "output_type": "display_data"
    },
    {
     "data": {
      "text/html": [
       "<pre style=\"white-space:pre;overflow-x:auto;line-height:normal;font-family:Menlo,'DejaVu Sans Mono',consolas,'Courier New',monospace\"><span style=\"font-weight: bold\"> Trainable params: </span><span style=\"color: #00af00; text-decoration-color: #00af00\">31</span> (124.00 B)\n",
       "</pre>\n"
      ],
      "text/plain": [
       "\u001b[1m Trainable params: \u001b[0m\u001b[38;5;34m31\u001b[0m (124.00 B)\n"
      ]
     },
     "metadata": {},
     "output_type": "display_data"
    },
    {
     "data": {
      "text/html": [
       "<pre style=\"white-space:pre;overflow-x:auto;line-height:normal;font-family:Menlo,'DejaVu Sans Mono',consolas,'Courier New',monospace\"><span style=\"font-weight: bold\"> Non-trainable params: </span><span style=\"color: #00af00; text-decoration-color: #00af00\">0</span> (0.00 B)\n",
       "</pre>\n"
      ],
      "text/plain": [
       "\u001b[1m Non-trainable params: \u001b[0m\u001b[38;5;34m0\u001b[0m (0.00 B)\n"
      ]
     },
     "metadata": {},
     "output_type": "display_data"
    }
   ],
   "source": [
    "model = Sequential()\n",
    "\n",
    "model.add(SimpleRNN(3, input_shape = (4,5)))\n",
    "model.add(Dense(1, activation = 'sigmoid'))\n",
    "\n",
    "model.summary()"
   ]
  },
  {
   "cell_type": "code",
   "execution_count": 4,
   "id": "8c6b4b27",
   "metadata": {
    "execution": {
     "iopub.execute_input": "2024-12-14T10:15:43.114583Z",
     "iopub.status.busy": "2024-12-14T10:15:43.114223Z",
     "iopub.status.idle": "2024-12-14T10:15:43.447004Z",
     "shell.execute_reply": "2024-12-14T10:15:43.445829Z"
    },
    "papermill": {
     "duration": 0.340021,
     "end_time": "2024-12-14T10:15:43.449580",
     "exception": false,
     "start_time": "2024-12-14T10:15:43.109559",
     "status": "completed"
    },
    "tags": []
   },
   "outputs": [
    {
     "data": {
      "image/png": "[encoded data removed]",
      "text/plain": [
       "<IPython.core.display.Image object>"
      ]
     },
     "execution_count": 4,
     "metadata": {},
     "output_type": "execute_result"
    }
   ],
   "source": [
    "from keras.utils import plot_model\n",
    "plot_model(model, to_file='model_architecture.png', show_shapes=True, show_layer_names=True)"
   ]
  },
  {
   "cell_type": "code",
   "execution_count": 5,
   "id": "cc53df88",
   "metadata": {
    "execution": {
     "iopub.execute_input": "2024-12-14T10:15:43.460114Z",
     "iopub.status.busy": "2024-12-14T10:15:43.459716Z",
     "iopub.status.idle": "2024-12-14T10:15:43.477932Z",
     "shell.execute_reply": "2024-12-14T10:15:43.476650Z"
    },
    "papermill": {
     "duration": 0.025982,
     "end_time": "2024-12-14T10:15:43.480150",
     "exception": false,
     "start_time": "2024-12-14T10:15:43.454168",
     "status": "completed"
    },
    "tags": []
   },
   "outputs": [
    {
     "name": "stdout",
     "output_type": "stream",
     "text": [
      "(5, 3)\n"
     ]
    },
    {
     "data": {
      "text/plain": [
       "array([[-0.6348113 , -0.69818044, -0.364747  ],\n",
       "       [ 0.00982022, -0.29789215, -0.5019692 ],\n",
       "       [-0.15757817, -0.8499811 , -0.3623882 ],\n",
       "       [-0.132254  , -0.710409  , -0.05692536],\n",
       "       [-0.27849162,  0.8003896 ,  0.6249079 ]], dtype=float32)"
      ]
     },
     "execution_count": 5,
     "metadata": {},
     "output_type": "execute_result"
    }
   ],
   "source": [
    "print(model.get_weights()[0].shape)\n",
    "model.get_weights()[0]"
   ]
  },
  {
   "cell_type": "code",
   "execution_count": 6,
   "id": "ff54a591",
   "metadata": {
    "execution": {
     "iopub.execute_input": "2024-12-14T10:15:43.491453Z",
     "iopub.status.busy": "2024-12-14T10:15:43.491071Z",
     "iopub.status.idle": "2024-12-14T10:15:43.502092Z",
     "shell.execute_reply": "2024-12-14T10:15:43.500907Z"
    },
    "papermill": {
     "duration": 0.019222,
     "end_time": "2024-12-14T10:15:43.504293",
     "exception": false,
     "start_time": "2024-12-14T10:15:43.485071",
     "status": "completed"
    },
    "tags": []
   },
   "outputs": [
    {
     "name": "stdout",
     "output_type": "stream",
     "text": [
      "Weights in Feedback loop corresponding layer 1\n",
      "(3, 3)\n"
     ]
    },
    {
     "data": {
      "text/plain": [
       "array([[-0.42326772,  0.7267267 , -0.541029  ],\n",
       "       [ 0.551472  , -0.26713657, -0.79026365],\n",
       "       [ 0.71883446,  0.63285553,  0.28769922]], dtype=float32)"
      ]
     },
     "execution_count": 6,
     "metadata": {},
     "output_type": "execute_result"
    }
   ],
   "source": [
    "print(\"Weights in Feedback loop corresponding layer 1\")\n",
    "print(model.get_weights()[1].shape)\n",
    "model.get_weights()[1]"
   ]
  },
  {
   "cell_type": "code",
   "execution_count": 7,
   "id": "8a19e6a4",
   "metadata": {
    "execution": {
     "iopub.execute_input": "2024-12-14T10:15:43.521791Z",
     "iopub.status.busy": "2024-12-14T10:15:43.520758Z",
     "iopub.status.idle": "2024-12-14T10:15:43.531823Z",
     "shell.execute_reply": "2024-12-14T10:15:43.530638Z"
    },
    "papermill": {
     "duration": 0.020032,
     "end_time": "2024-12-14T10:15:43.534032",
     "exception": false,
     "start_time": "2024-12-14T10:15:43.514000",
     "status": "completed"
    },
    "tags": []
   },
   "outputs": [
    {
     "name": "stdout",
     "output_type": "stream",
     "text": [
      "Bias of 1st layer: \n",
      "(3,)\n"
     ]
    },
    {
     "data": {
      "text/plain": [
       "array([0., 0., 0.], dtype=float32)"
      ]
     },
     "execution_count": 7,
     "metadata": {},
     "output_type": "execute_result"
    }
   ],
   "source": [
    "print(\"Bias of 1st layer: \")\n",
    "print(model.get_weights()[2].shape)\n",
    "model.get_weights()[2]"
   ]
  },
  {
   "cell_type": "code",
   "execution_count": 8,
   "id": "e61a58f8",
   "metadata": {
    "execution": {
     "iopub.execute_input": "2024-12-14T10:15:43.546573Z",
     "iopub.status.busy": "2024-12-14T10:15:43.546171Z",
     "iopub.status.idle": "2024-12-14T10:15:43.556399Z",
     "shell.execute_reply": "2024-12-14T10:15:43.555267Z"
    },
    "papermill": {
     "duration": 0.018826,
     "end_time": "2024-12-14T10:15:43.558893",
     "exception": false,
     "start_time": "2024-12-14T10:15:43.540067",
     "status": "completed"
    },
    "tags": []
   },
   "outputs": [
    {
     "name": "stdout",
     "output_type": "stream",
     "text": [
      "Weights of 2nd layer\n",
      "(3, 1)\n"
     ]
    },
    {
     "data": {
      "text/plain": [
       "array([[-0.75425243],\n",
       "       [ 0.89415705],\n",
       "       [ 0.5919943 ]], dtype=float32)"
      ]
     },
     "execution_count": 8,
     "metadata": {},
     "output_type": "execute_result"
    }
   ],
   "source": [
    "print(\"Weights of 2nd layer\")\n",
    "print(model.get_weights()[3].shape)\n",
    "model.get_weights()[3]"
   ]
  },
  {
   "cell_type": "code",
   "execution_count": 9,
   "id": "311f2cce",
   "metadata": {
    "execution": {
     "iopub.execute_input": "2024-12-14T10:15:43.570834Z",
     "iopub.status.busy": "2024-12-14T10:15:43.570456Z",
     "iopub.status.idle": "2024-12-14T10:15:43.580530Z",
     "shell.execute_reply": "2024-12-14T10:15:43.579509Z"
    },
    "papermill": {
     "duration": 0.01853,
     "end_time": "2024-12-14T10:15:43.582701",
     "exception": false,
     "start_time": "2024-12-14T10:15:43.564171",
     "status": "completed"
    },
    "tags": []
   },
   "outputs": [
    {
     "name": "stdout",
     "output_type": "stream",
     "text": [
      "Bias of output layer: \n",
      "(1,)\n"
     ]
    },
    {
     "data": {
      "text/plain": [
       "array([0.], dtype=float32)"
      ]
     },
     "execution_count": 9,
     "metadata": {},
     "output_type": "execute_result"
    }
   ],
   "source": [
    "print(\"Bias of output layer: \")\n",
    "print(model.get_weights()[4].shape)\n",
    "model.get_weights()[4]"
   ]
  },
  {
   "cell_type": "code",
   "execution_count": null,
   "id": "a8b0521f",
   "metadata": {
    "papermill": {
     "duration": 0.004715,
     "end_time": "2024-12-14T10:15:43.592745",
     "exception": false,
     "start_time": "2024-12-14T10:15:43.588030",
     "status": "completed"
    },
    "tags": []
   },
   "outputs": [],
   "source": []
  }
 ],
 "metadata": {
  "kaggle": {
   "accelerator": "none",
   "dataSources": [],
   "dockerImageVersionId": 30804,
   "isGpuEnabled": false,
   "isInternetEnabled": true,
   "language": "python",
   "sourceType": "notebook"
  },
  "kernelspec": {
   "display_name": "Python 3",
   "language": "python",
   "name": "python3"
  },
  "language_info": {
   "codemirror_mode": {
    "name": "ipython",
    "version": 3
   },
   "file_extension": ".py",
   "mimetype": "text/x-python",
   "name": "python",
   "nbconvert_exporter": "python",
   "pygments_lexer": "ipython3",
   "version": "3.10.14"
  },
  "papermill": {
   "default_parameters": {},
   "duration": 20.473271,
   "end_time": "2024-12-14T10:15:45.969453",
   "environment_variables": {},
   "exception": null,
   "input_path": "__notebook__.ipynb",
   "output_path": "__notebook__.ipynb",
   "parameters": {},
   "start_time": "2024-12-14T10:15:25.496182",
   "version": "2.6.0"
  }
 },
 "nbformat": 4,
 "nbformat_minor": 5
}
